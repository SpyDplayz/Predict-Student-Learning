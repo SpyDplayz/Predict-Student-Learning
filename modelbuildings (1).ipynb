{
 "cells": [
  {
   "cell_type": "markdown",
   "id": "0c19bb9e",
   "metadata": {
    "papermill": {
     "duration": 0.025449,
     "end_time": "2024-05-15T14:57:24.570331",
     "exception": false,
     "start_time": "2024-05-15T14:57:24.544882",
     "status": "completed"
    },
    "tags": []
   },
   "source": [
    "# Predict Student Performance from Game Play"
   ]
  },
  {
   "cell_type": "code",
   "execution_count": 1,
   "id": "e57dd7ed",
   "metadata": {
    "_cell_guid": "b1076dfc-b9ad-4769-8c92-a6c4dae69d19",
    "_uuid": "8f2839f25d086af736a60e9eeb907d3b93b6e0e5",
    "execution": {
     "iopub.execute_input": "2024-05-15T14:57:24.623392Z",
     "iopub.status.busy": "2024-05-15T14:57:24.623038Z",
     "iopub.status.idle": "2024-05-15T14:57:25.370754Z",
     "shell.execute_reply": "2024-05-15T14:57:25.369832Z"
    },
    "papermill": {
     "duration": 0.776304,
     "end_time": "2024-05-15T14:57:25.373503",
     "exception": false,
     "start_time": "2024-05-15T14:57:24.597199",
     "status": "completed"
    },
    "tags": []
   },
   "outputs": [
    {
     "name": "stdout",
     "output_type": "stream",
     "text": [
      "/kaggle/input/student-performance-room-imgss/tunic.historicalsociety.stacks.jpg\n",
      "/kaggle/input/student-performance-room-imgss/tunic.historicalsociety.frontdesk.jpg\n",
      "/kaggle/input/student-performance-room-imgss/tunic.kohlcenter.halloffame.jpg\n",
      "/kaggle/input/student-performance-room-imgss/tunic.historicalsociety.cage.jpg\n",
      "/kaggle/input/student-performance-room-imgss/tunic.historicalsociety.basement.jpg\n",
      "/kaggle/input/student-performance-room-imgss/tunic.flaghouse.entry.jpg\n",
      "/kaggle/input/student-performance-room-imgss/tunic.historicalsociety.collection_flag.jpg\n",
      "/kaggle/input/student-performance-room-imgss/tunic.historicalsociety.closet_dirty.jpg\n",
      "/kaggle/input/student-performance-room-imgss/tunic.library.frontdesk.jpg\n",
      "/kaggle/input/student-performance-room-imgss/tunic.historicalsociety.collection.jpg\n",
      "/kaggle/input/student-performance-room-imgss/tunic.drycleaner.frontdesk.jpg\n",
      "/kaggle/input/student-performance-room-imgss/tunic.capitol_1.hall.jpg\n",
      "/kaggle/input/student-performance-room-imgss/tunic.historicalsociety.entry.jpg\n",
      "/kaggle/input/student-performance-room-imgss/tunic.capitol_2.hall.jpg\n",
      "/kaggle/input/student-performance-room-imgss/tunic.humanecology.frontdesk.jpg\n",
      "/kaggle/input/student-performance-room-imgss/submission.csv\n",
      "/kaggle/input/student-performance-room-imgss/tunic.capitol_0.hall.jpg\n",
      "/kaggle/input/student-performance-room-imgss/tunic.wildlife.center.jpg\n",
      "/kaggle/input/student-performance-room-imgss/main.jpg\n",
      "/kaggle/input/student-performance-room-imgss/one_session_events.csv\n",
      "/kaggle/input/student-performance-room-imgss/tunic.historicalsociety.closet.jpg\n",
      "/kaggle/input/student-performance-room-imgss/tunic.library.microfiche.jpg\n",
      "/kaggle/input/guru-hub/tunic.historicalsociety.stacks.jpg\n",
      "/kaggle/input/guru-hub/tunic.historicalsociety.frontdesk.jpg\n",
      "/kaggle/input/guru-hub/tunic.kohlcenter.halloffame.jpg\n",
      "/kaggle/input/guru-hub/humanecology.png\n",
      "/kaggle/input/guru-hub/tunic.historicalsociety.cage.jpg\n",
      "/kaggle/input/guru-hub/tunic.historicalsociety.basement.jpg\n",
      "/kaggle/input/guru-hub/basement.png\n",
      "/kaggle/input/guru-hub/closet.png\n",
      "/kaggle/input/guru-hub/stacks.png\n",
      "/kaggle/input/guru-hub/tunic.flaghouse.entry.jpg\n",
      "/kaggle/input/guru-hub/tunic.historicalsociety.collection_flag.jpg\n",
      "/kaggle/input/guru-hub/tunic.historicalsociety.closet_dirty.jpg\n",
      "/kaggle/input/guru-hub/entry.png\n",
      "/kaggle/input/guru-hub/tunic.library.frontdesk.jpg\n",
      "/kaggle/input/guru-hub/halloffame.png\n",
      "/kaggle/input/guru-hub/dirty_closet.png\n",
      "/kaggle/input/guru-hub/wildlife.png\n",
      "/kaggle/input/guru-hub/tunic.historicalsociety.collection.jpg\n",
      "/kaggle/input/guru-hub/tunic.drycleaner.frontdesk.jpg\n",
      "/kaggle/input/guru-hub/tunic.capitol_1.hall.jpg\n",
      "/kaggle/input/guru-hub/tunic.historicalsociety.entry.jpg\n",
      "/kaggle/input/guru-hub/tunic.capitol_2.hall.jpg\n",
      "/kaggle/input/guru-hub/tunic.humanecology.frontdesk.jpg\n",
      "/kaggle/input/guru-hub/collection_flag.png\n",
      "/kaggle/input/guru-hub/submission.csv\n",
      "/kaggle/input/guru-hub/tunic.capitol_0.hall.jpg\n",
      "/kaggle/input/guru-hub/tunic.wildlife.center.jpg\n",
      "/kaggle/input/guru-hub/main.jpg\n",
      "/kaggle/input/guru-hub/microfiche.png\n",
      "/kaggle/input/guru-hub/capitol_hall.png\n",
      "/kaggle/input/guru-hub/frontdesk.png\n",
      "/kaggle/input/guru-hub/one_session_events.csv\n",
      "/kaggle/input/guru-hub/cage.png\n",
      "/kaggle/input/guru-hub/library.png\n",
      "/kaggle/input/guru-hub/drycleaner.png\n",
      "/kaggle/input/guru-hub/collection.png\n",
      "/kaggle/input/guru-hub/tunic.historicalsociety.closet.jpg\n",
      "/kaggle/input/guru-hub/flaghouse.png\n",
      "/kaggle/input/guru-hub/tunic.library.microfiche.jpg\n",
      "/kaggle/input/guru-hub-data/tunic.historicalsociety.stacks.jpg\n",
      "/kaggle/input/guru-hub-data/tunic.historicalsociety.frontdesk.jpg\n",
      "/kaggle/input/guru-hub-data/tunic.kohlcenter.halloffame.jpg\n",
      "/kaggle/input/guru-hub-data/humanecology.png\n",
      "/kaggle/input/guru-hub-data/tunic.historicalsociety.cage.jpg\n",
      "/kaggle/input/guru-hub-data/tunic.historicalsociety.basement.jpg\n",
      "/kaggle/input/guru-hub-data/basement.png\n",
      "/kaggle/input/guru-hub-data/closet.png\n",
      "/kaggle/input/guru-hub-data/stacks.png\n",
      "/kaggle/input/guru-hub-data/tunic.flaghouse.entry.jpg\n",
      "/kaggle/input/guru-hub-data/tunic.historicalsociety.collection_flag.jpg\n",
      "/kaggle/input/guru-hub-data/tunic.historicalsociety.closet_dirty.jpg\n",
      "/kaggle/input/guru-hub-data/entry.png\n",
      "/kaggle/input/guru-hub-data/tunic.library.frontdesk.jpg\n",
      "/kaggle/input/guru-hub-data/halloffame.png\n",
      "/kaggle/input/guru-hub-data/dirty_closet.png\n",
      "/kaggle/input/guru-hub-data/wildlife.png\n",
      "/kaggle/input/guru-hub-data/tunic.historicalsociety.collection.jpg\n",
      "/kaggle/input/guru-hub-data/tunic.drycleaner.frontdesk.jpg\n",
      "/kaggle/input/guru-hub-data/tunic.capitol_1.hall.jpg\n",
      "/kaggle/input/guru-hub-data/tunic.historicalsociety.entry.jpg\n",
      "/kaggle/input/guru-hub-data/tunic.capitol_2.hall.jpg\n",
      "/kaggle/input/guru-hub-data/tunic.humanecology.frontdesk.jpg\n",
      "/kaggle/input/guru-hub-data/collection_flag.png\n",
      "/kaggle/input/guru-hub-data/tunic.capitol_0.hall.jpg\n",
      "/kaggle/input/guru-hub-data/tunic.wildlife.center.jpg\n",
      "/kaggle/input/guru-hub-data/main.jpg\n",
      "/kaggle/input/guru-hub-data/microfiche.png\n",
      "/kaggle/input/guru-hub-data/capitol_hall.png\n",
      "/kaggle/input/guru-hub-data/frontdesk.png\n",
      "/kaggle/input/guru-hub-data/cage.png\n",
      "/kaggle/input/guru-hub-data/library.png\n",
      "/kaggle/input/guru-hub-data/drycleaner.png\n",
      "/kaggle/input/guru-hub-data/collection.png\n",
      "/kaggle/input/guru-hub-data/tunic.historicalsociety.closet.jpg\n",
      "/kaggle/input/guru-hub-data/flaghouse.png\n",
      "/kaggle/input/guru-hub-data/tunic.library.microfiche.jpg\n",
      "/kaggle/input/predict-student-performance-from-game-play/sample_submission.csv\n",
      "/kaggle/input/predict-student-performance-from-game-play/train_labels.csv\n",
      "/kaggle/input/predict-student-performance-from-game-play/train.csv\n",
      "/kaggle/input/predict-student-performance-from-game-play/test.csv\n",
      "/kaggle/input/predict-student-performance-from-game-play/jo_wilder_310/competition.cpython-310-x86_64-linux-gnu.so\n",
      "/kaggle/input/predict-student-performance-from-game-play/jo_wilder_310/__init__.py\n",
      "/kaggle/input/predict-student-performance-from-game-play/jo_wilder/competition.cpython-37m-x86_64-linux-gnu.so\n",
      "/kaggle/input/predict-student-performance-from-game-play/jo_wilder/__init__.py\n",
      "/kaggle/input/student-performance-room-img/humanecology.png\n",
      "/kaggle/input/student-performance-room-img/basement.png\n",
      "/kaggle/input/student-performance-room-img/closet.png\n",
      "/kaggle/input/student-performance-room-img/stacks.png\n",
      "/kaggle/input/student-performance-room-img/entry.png\n",
      "/kaggle/input/student-performance-room-img/halloffame.png\n",
      "/kaggle/input/student-performance-room-img/dirty_closet.png\n",
      "/kaggle/input/student-performance-room-img/wildlife.png\n",
      "/kaggle/input/student-performance-room-img/collection_flag.png\n",
      "/kaggle/input/student-performance-room-img/microfiche.png\n",
      "/kaggle/input/student-performance-room-img/capitol_hall.png\n",
      "/kaggle/input/student-performance-room-img/frontdesk.png\n",
      "/kaggle/input/student-performance-room-img/cage.png\n",
      "/kaggle/input/student-performance-room-img/library.png\n",
      "/kaggle/input/student-performance-room-img/drycleaner.png\n",
      "/kaggle/input/student-performance-room-img/collection.png\n",
      "/kaggle/input/student-performance-room-img/flaghouse.png\n"
     ]
    }
   ],
   "source": [
    "# This Python 3 environment comes with many helpful analytics libraries installed\n",
    "# It is defined by the kaggle/python Docker image: https://github.com/kaggle/docker-python\n",
    "# For example, here's several helpful packages to load\n",
    "\n",
    "import numpy as np # linear algebra\n",
    "import pandas as pd # data processing, CSV file I/O (e.g. pd.read_csv)\n",
    "\n",
    "# Input data files are available in the read-only \"../input/\" directory\n",
    "# For example, running this (by clicking run or pressing Shift+Enter) will list all files under the input directory\n",
    "\n",
    "import os\n",
    "for dirname, _, filenames in os.walk('/kaggle/input'):\n",
    "    for filename in filenames:\n",
    "        print(os.path.join(dirname, filename))\n",
    "\n",
    "# You can write up to 20GB to the current directory (/kaggle/working/) that gets preserved as output when you create a version using \"Save & Run All\" \n",
    "# You can also write temporary files to /kaggle/temp/, but they won't be saved outside of the current session"
   ]
  },
  {
   "cell_type": "code",
   "execution_count": 2,
   "id": "099b4b27",
   "metadata": {
    "execution": {
     "iopub.execute_input": "2024-05-15T14:57:25.434534Z",
     "iopub.status.busy": "2024-05-15T14:57:25.433366Z",
     "iopub.status.idle": "2024-05-15T14:57:25.455558Z",
     "shell.execute_reply": "2024-05-15T14:57:25.454679Z"
    },
    "papermill": {
     "duration": 0.063762,
     "end_time": "2024-05-15T14:57:25.463239",
     "exception": false,
     "start_time": "2024-05-15T14:57:25.399477",
     "status": "completed"
    },
    "tags": []
   },
   "outputs": [
    {
     "data": {
      "image/jpeg": "[encoded data removed]",
      "text/plain": [
       "<IPython.core.display.Image object>"
      ]
     },
     "execution_count": 2,
     "metadata": {},
     "output_type": "execute_result"
    }
   ],
   "source": [
    "import IPython.display as py_display\n",
    "py_display.Image(\"/kaggle/input/guru-hub-data/main.jpg\")"
   ]
  },
  {
   "cell_type": "markdown",
   "id": "83cccf31",
   "metadata": {
    "papermill": {
     "duration": 0.029256,
     "end_time": "2024-05-15T14:57:25.523926",
     "exception": false,
     "start_time": "2024-05-15T14:57:25.494670",
     "status": "completed"
    },
    "tags": []
   },
   "source": [
    "# Part 1: Importing Libraries"
   ]
  },
  {
   "cell_type": "code",
   "execution_count": null,
   "id": "afddec30",
   "metadata": {
    "execution": {
     "iopub.execute_input": "2024-03-28T13:53:00.902852Z",
     "iopub.status.busy": "2024-03-28T13:53:00.902606Z",
     "iopub.status.idle": "2024-03-28T13:53:13.831104Z",
     "shell.execute_reply": "2024-03-28T13:53:13.830332Z",
     "shell.execute_reply.started": "2024-03-28T13:53:00.90283Z"
    },
    "papermill": {
     "duration": null,
     "end_time": null,
     "exception": false,
     "start_time": "2024-05-15T14:57:25.556307",
     "status": "running"
    },
    "tags": []
   },
   "outputs": [],
   "source": [
    "# Importing Libraries\n",
    "import tensorflow as tf\n",
    "#import tensorflow_addons as tfa  # Uncomment this line if you need to use tensorflow_addons\n",
    "import tensorflow_decision_forests as tfdf\n",
    "from tensorflow import keras\n",
    "from keras.callbacks import ModelCheckpoint, EarlyStopping\n",
    "from tensorflow.keras.layers import Conv1D, BatchNormalization, LeakyReLU, MaxPooling1D, Flatten, Dense, GlobalAvgPool2D, GlobalAvgPool1D\n",
    "\n",
    "import pandas as pd\n",
    "import numpy as np\n",
    "import matplotlib.pyplot as plt\n",
    "\n",
    "from sklearn.metrics import f1_score\n",
    "\n",
    "\n",
    "import pandas as pd  # Importing pandas library for data manipulation\n",
    "import numpy as np   # Importing numpy library for numerical computations\n",
    "\n",
    "import seaborn as sns  # Importing seaborn library for data visualization\n",
    "import matplotlib.pyplot as plt  # Importing matplotlib library for plotting\n",
    "from matplotlib.colors import ListedColormap  # Importing ListedColormap for creating custom colormaps\n",
    "from matplotlib.patches import ConnectionPatch  # Importing ConnectionPatch for drawing connections\n",
    "\n",
    "import warnings  # Importing warnings module to suppress warnings\n",
    "warnings.filterwarnings(\"ignore\")  # Suppressing warnings\n"
   ]
  },
  {
   "cell_type": "markdown",
   "id": "22bc61fb",
   "metadata": {
    "papermill": {
     "duration": null,
     "end_time": null,
     "exception": null,
     "start_time": null,
     "status": "pending"
    },
    "tags": []
   },
   "source": [
    "# Data Visualisation"
   ]
  },
  {
   "cell_type": "code",
   "execution_count": null,
   "id": "d41e34a4",
   "metadata": {
    "execution": {
     "iopub.execute_input": "2024-03-28T13:53:13.833537Z",
     "iopub.status.busy": "2024-03-28T13:53:13.833033Z",
     "iopub.status.idle": "2024-03-28T13:53:13.839023Z",
     "shell.execute_reply": "2024-03-28T13:53:13.837956Z",
     "shell.execute_reply.started": "2024-03-28T13:53:13.83351Z"
    },
    "papermill": {
     "duration": null,
     "end_time": null,
     "exception": null,
     "start_time": null,
     "status": "pending"
    },
    "tags": []
   },
   "outputs": [],
   "source": [
    "# Disabling chained assignment warnings in pandas\n",
    "pd.options.mode.chained_assignment = None  # default='warn'\n",
    "\n",
    "# Setting random seeds for reproducibility\n",
    "tf.random.set_seed(42)  # Setting random seed for TensorFlow\n",
    "np.random.seed(42)      # Setting random seed for NumPy\n",
    "\n",
    "# Clearing TensorFlow backend session\n",
    "keras.backend.clear_session()  # Clearing Keras backend session to start fresh\n"
   ]
  },
  {
   "cell_type": "code",
   "execution_count": null,
   "id": "66a03d62",
   "metadata": {
    "execution": {
     "iopub.execute_input": "2024-03-28T13:53:13.840624Z",
     "iopub.status.busy": "2024-03-28T13:53:13.84027Z",
     "iopub.status.idle": "2024-03-28T13:53:13.868905Z",
     "shell.execute_reply": "2024-03-28T13:53:13.867989Z",
     "shell.execute_reply.started": "2024-03-28T13:53:13.840591Z"
    },
    "papermill": {
     "duration": null,
     "end_time": null,
     "exception": null,
     "start_time": null,
     "status": "pending"
    },
    "tags": []
   },
   "outputs": [],
   "source": [
    "import plotly.graph_objects as go\n",
    "\n",
    "days = ['Monday', 'Tuesday', 'Wednesday', 'Thursday', 'Friday', 'Saturday', 'Sunday']\n",
    "days_abb = ['Mon', 'Tue', 'Wed', 'Thu', 'Fri', 'Sat', 'Sun']\n",
    "y_ticks = ['Low', 'Medium', 'High']\n",
    "\n",
    "def create_perf_graph(perf, y_tick_labels=y_ticks, y_tick_positions=[1, 2, 3], y_label='Performance', title='Students Performance Throughout The Week', marker_color='blue'):\n",
    "    fig = go.Figure()\n",
    "\n",
    "    fig.add_trace(go.Scatter(x=days, y=perf, mode='markers', marker=dict(size=10, color=marker_color), name='Performance'))\n",
    "\n",
    "    fig.update_layout(title=title, xaxis_title='Day', yaxis_title=y_label, yaxis=dict(tickmode='array', tickvals=y_tick_positions, ticktext=y_tick_labels), yaxis_range=[0, 3.5])\n",
    "\n",
    "    return fig"
   ]
  },
  {
   "cell_type": "code",
   "execution_count": null,
   "id": "72d9e44a",
   "metadata": {
    "execution": {
     "iopub.execute_input": "2024-03-28T13:53:13.871571Z",
     "iopub.status.busy": "2024-03-28T13:53:13.870995Z",
     "iopub.status.idle": "2024-03-28T13:53:13.881549Z",
     "shell.execute_reply": "2024-03-28T13:53:13.880645Z",
     "shell.execute_reply.started": "2024-03-28T13:53:13.871538Z"
    },
    "papermill": {
     "duration": null,
     "end_time": null,
     "exception": null,
     "start_time": null,
     "status": "pending"
    },
    "tags": []
   },
   "outputs": [],
   "source": [
    "import plotly.graph_objects as go\n",
    "\n",
    "def create_perf_graph(perf_data, line_color='blue'):\n",
    "    fig = go.Figure()\n",
    "\n",
    "    # Add line plot\n",
    "    fig.add_trace(go.Scatter(x=list(range(len(perf_data))), y=perf_data, mode='lines', \n",
    "                             line=dict(color=line_color, width=2), name='Performance'))\n",
    "\n",
    "    # Add scatter plot\n",
    "    fig.add_trace(go.Scatter(x=list(range(len(perf_data))), y=perf_data, mode='markers', \n",
    "                             marker=dict(color='red', size=8), name='Performance'))\n",
    "\n",
    "    fig.update_layout(\n",
    "        title='Performance Over Time',\n",
    "        xaxis=dict(\n",
    "            title='Day of Week',\n",
    "            tickvals=list(range(len(perf_data))),\n",
    "            ticktext=['Monday', 'Tuesday', 'Wednesday', 'Thursday', 'Friday', 'Saturday', 'Sunday'],\n",
    "            tickfont=dict(size=12),\n",
    "            gridcolor='lightgrey'\n",
    "        ),\n",
    "        yaxis=dict(\n",
    "            title='Performance',\n",
    "            tickfont=dict(size=12),\n",
    "            gridcolor='lightgrey',\n",
    "            tickvals=[1, 2, 3],\n",
    "            ticktext=['Low', 'Medium', 'High']\n",
    "        ),\n",
    "        plot_bgcolor='rgba(0,0,0,0)',\n",
    "        paper_bgcolor='rgba(0,0,0,0)',\n",
    "    )\n",
    "\n",
    "    fig.show()"
   ]
  },
  {
   "cell_type": "code",
   "execution_count": null,
   "id": "8714f8e0",
   "metadata": {
    "execution": {
     "iopub.execute_input": "2024-03-28T13:53:13.882998Z",
     "iopub.status.busy": "2024-03-28T13:53:13.882672Z",
     "iopub.status.idle": "2024-03-28T13:53:14.333166Z",
     "shell.execute_reply": "2024-03-28T13:53:14.332334Z",
     "shell.execute_reply.started": "2024-03-28T13:53:13.882965Z"
    },
    "papermill": {
     "duration": null,
     "end_time": null,
     "exception": null,
     "start_time": null,
     "status": "pending"
    },
    "tags": []
   },
   "outputs": [],
   "source": [
    "# Example usage\n",
    "perf_data = [3, 3, 2, 2, 1, 2, 3]  # Example performance data\n",
    "create_perf_graph(perf_data,line_color='red')\n"
   ]
  },
  {
   "cell_type": "code",
   "execution_count": null,
   "id": "a32d66df",
   "metadata": {
    "execution": {
     "iopub.execute_input": "2024-03-28T13:53:14.334779Z",
     "iopub.status.busy": "2024-03-28T13:53:14.334235Z",
     "iopub.status.idle": "2024-03-28T13:53:14.35965Z",
     "shell.execute_reply": "2024-03-28T13:53:14.358617Z",
     "shell.execute_reply.started": "2024-03-28T13:53:14.334751Z"
    },
    "papermill": {
     "duration": null,
     "end_time": null,
     "exception": null,
     "start_time": null,
     "status": "pending"
    },
    "tags": []
   },
   "outputs": [],
   "source": [
    "# Example usage\n",
    "perf_data = [3, 3, 2, 2, 1, 2, 3]  # Example performance data\n",
    "create_perf_graph(perf_data,line_color='black')\n"
   ]
  },
  {
   "cell_type": "code",
   "execution_count": null,
   "id": "8e63d7de",
   "metadata": {
    "execution": {
     "iopub.execute_input": "2024-03-28T13:53:14.361413Z",
     "iopub.status.busy": "2024-03-28T13:53:14.361113Z",
     "iopub.status.idle": "2024-03-28T13:54:59.055888Z",
     "shell.execute_reply": "2024-03-28T13:54:59.054892Z",
     "shell.execute_reply.started": "2024-03-28T13:53:14.361389Z"
    },
    "papermill": {
     "duration": null,
     "end_time": null,
     "exception": null,
     "start_time": null,
     "status": "pending"
    },
    "tags": []
   },
   "outputs": [],
   "source": [
    "df = pd.read_csv('/kaggle/input/predict-student-performance-from-game-play/train.csv', \n",
    "                 usecols=['session_id'],\n",
    "                 dtype = {'session_id':'object'})\n",
    "df.head()"
   ]
  },
  {
   "cell_type": "code",
   "execution_count": null,
   "id": "2ac1406a",
   "metadata": {
    "execution": {
     "iopub.execute_input": "2024-03-28T13:54:59.059942Z",
     "iopub.status.busy": "2024-03-28T13:54:59.059577Z",
     "iopub.status.idle": "2024-03-28T13:55:01.099649Z",
     "shell.execute_reply": "2024-03-28T13:55:01.098633Z",
     "shell.execute_reply.started": "2024-03-28T13:54:59.059919Z"
    },
    "papermill": {
     "duration": null,
     "end_time": null,
     "exception": null,
     "start_time": null,
     "status": "pending"
    },
    "tags": []
   },
   "outputs": [],
   "source": [
    "labels = pd.read_csv('/kaggle/input/predict-student-performance-from-game-play/train_labels.csv')\n",
    "\n",
    "labels[['session_id', 'question']] = labels['session_id'].str.split('_', expand=True)\n",
    "labels = labels.pivot(columns='question', index='session_id', values='correct')\n",
    "\n",
    "scores = labels.sum(axis=1)\n",
    "scores = scores.rename('score')\n",
    "\n",
    "scores.head()"
   ]
  },
  {
   "cell_type": "code",
   "execution_count": null,
   "id": "e8c98c7e",
   "metadata": {
    "execution": {
     "iopub.execute_input": "2024-03-28T13:55:01.100939Z",
     "iopub.status.busy": "2024-03-28T13:55:01.100675Z",
     "iopub.status.idle": "2024-03-28T13:55:03.206161Z",
     "shell.execute_reply": "2024-03-28T13:55:03.205302Z",
     "shell.execute_reply.started": "2024-03-28T13:55:01.100917Z"
    },
    "papermill": {
     "duration": null,
     "end_time": null,
     "exception": null,
     "start_time": null,
     "status": "pending"
    },
    "tags": []
   },
   "outputs": [],
   "source": [
    "sessions = pd.DataFrame(df['session_id'].unique(), columns=['session_id'])\n",
    "sessions.head()"
   ]
  },
  {
   "cell_type": "code",
   "execution_count": null,
   "id": "b3f25d31",
   "metadata": {
    "execution": {
     "iopub.execute_input": "2024-03-28T13:55:03.20743Z",
     "iopub.status.busy": "2024-03-28T13:55:03.207121Z",
     "iopub.status.idle": "2024-03-28T13:55:03.262497Z",
     "shell.execute_reply": "2024-03-28T13:55:03.261472Z",
     "shell.execute_reply.started": "2024-03-28T13:55:03.207404Z"
    },
    "papermill": {
     "duration": null,
     "end_time": null,
     "exception": null,
     "start_time": null,
     "status": "pending"
    },
    "tags": []
   },
   "outputs": [],
   "source": [
    "sessions['year'] = sessions['session_id'].str.slice(start=0, stop=2).astype(np.int8)\n",
    "sessions['month'] = sessions['session_id'].str.slice(start=2, stop=4).astype(np.int8)\n",
    "\n",
    "sessions['day'] = sessions['session_id'].str.slice(start=4, stop=6).astype(np.int8)\n",
    "\n",
    "sessions['hour'] = sessions[\"hour\"] = sessions[\"session_id\"].str.slice(start=6, stop=8).astype(np.uint8)\n",
    "\n",
    "sessions = sessions.set_index('session_id')\n",
    "sessions.head()"
   ]
  },
  {
   "cell_type": "code",
   "execution_count": null,
   "id": "3c7640b8",
   "metadata": {
    "execution": {
     "iopub.execute_input": "2024-03-28T13:55:03.263895Z",
     "iopub.status.busy": "2024-03-28T13:55:03.263646Z",
     "iopub.status.idle": "2024-03-28T13:55:03.279232Z",
     "shell.execute_reply": "2024-03-28T13:55:03.278352Z",
     "shell.execute_reply.started": "2024-03-28T13:55:03.263874Z"
    },
    "papermill": {
     "duration": null,
     "end_time": null,
     "exception": null,
     "start_time": null,
     "status": "pending"
    },
    "tags": []
   },
   "outputs": [],
   "source": [
    "# Moving Sunday from the beggining of the week to its end\n",
    "t = sessions['day']\n",
    "sessions['day'] = sessions['day'].map({0:7}).fillna(t)\n",
    "sessions.head()"
   ]
  },
  {
   "cell_type": "code",
   "execution_count": null,
   "id": "49807fe7",
   "metadata": {
    "execution": {
     "iopub.execute_input": "2024-03-28T13:55:03.280641Z",
     "iopub.status.busy": "2024-03-28T13:55:03.280345Z",
     "iopub.status.idle": "2024-03-28T13:55:03.308405Z",
     "shell.execute_reply": "2024-03-28T13:55:03.307583Z",
     "shell.execute_reply.started": "2024-03-28T13:55:03.280616Z"
    },
    "papermill": {
     "duration": null,
     "end_time": null,
     "exception": null,
     "start_time": null,
     "status": "pending"
    },
    "tags": []
   },
   "outputs": [],
   "source": [
    "date_score = pd.concat([sessions, scores], axis=1)\n",
    "date_score.head()"
   ]
  },
  {
   "cell_type": "code",
   "execution_count": null,
   "id": "32787e70",
   "metadata": {
    "execution": {
     "iopub.execute_input": "2024-03-28T13:55:03.310185Z",
     "iopub.status.busy": "2024-03-28T13:55:03.309588Z",
     "iopub.status.idle": "2024-03-28T13:55:03.318029Z",
     "shell.execute_reply": "2024-03-28T13:55:03.316984Z",
     "shell.execute_reply.started": "2024-03-28T13:55:03.310154Z"
    },
    "papermill": {
     "duration": null,
     "end_time": null,
     "exception": null,
     "start_time": null,
     "status": "pending"
    },
    "tags": []
   },
   "outputs": [],
   "source": [
    "date_score.year.unique()"
   ]
  },
  {
   "cell_type": "code",
   "execution_count": null,
   "id": "f92a81d5",
   "metadata": {
    "execution": {
     "iopub.execute_input": "2024-03-28T13:55:03.319411Z",
     "iopub.status.busy": "2024-03-28T13:55:03.319129Z",
     "iopub.status.idle": "2024-03-28T13:55:03.333301Z",
     "shell.execute_reply": "2024-03-28T13:55:03.332211Z",
     "shell.execute_reply.started": "2024-03-28T13:55:03.319388Z"
    },
    "papermill": {
     "duration": null,
     "end_time": null,
     "exception": null,
     "start_time": null,
     "status": "pending"
    },
    "tags": []
   },
   "outputs": [],
   "source": [
    "game_activity = date_score.groupby(['year', 'month']).size()\n",
    "game_activity.head()"
   ]
  },
  {
   "cell_type": "code",
   "execution_count": null,
   "id": "ec901a9a",
   "metadata": {
    "execution": {
     "iopub.execute_input": "2024-03-28T13:55:03.334922Z",
     "iopub.status.busy": "2024-03-28T13:55:03.334537Z",
     "iopub.status.idle": "2024-03-28T13:55:03.725487Z",
     "shell.execute_reply": "2024-03-28T13:55:03.724545Z",
     "shell.execute_reply.started": "2024-03-28T13:55:03.334896Z"
    },
    "papermill": {
     "duration": null,
     "end_time": null,
     "exception": null,
     "start_time": null,
     "status": "pending"
    },
    "tags": []
   },
   "outputs": [],
   "source": [
    "fig, ax = plt.subplots(figsize=(13, 5))\n",
    "\n",
    "sns.lineplot(x=range(9), y=game_activity[:9], ax=ax, color='orange')\n",
    "sns.lineplot(x=range(8, len(game_activity)), y=game_activity[8:], ax=ax, color='grey')\n",
    "\n",
    "y_label = ax.set_ylabel('Number Of Sessions', y=0.832)\n",
    "\n",
    "ax.set_xlim(-0.5)\n",
    "ax.set_ylim(0, 2250)\n",
    "\n",
    "ax.set_xticks([-0.5,2.5,5.5,8.5,11.5,14.5,17.5,20.5,23.5,26.5])\n",
    "ax.set_xticklabels([])\n",
    "\n",
    "ax.set_xticks([1, 4, 7, 10, 13, 16, 19, 22, 25], minor=True)\n",
    "plt.tick_params(which='minor', bottom=False, top=False, left=False, right=False)\n",
    "ax.set_xticklabels(['2020 Q4','2021 Q1','2021 Q2','2021 Q3', '2021 Q4','2022 Q1','2022 Q2','2022 Q3', '2022 Q4'],\n",
    "                   minor=True)\n",
    "\n",
    "ax.set_title('Total Game Activity In Three Years', x=0.122, y=1.085, size=16)\n",
    "ax.text(x=-2.25, y=2350, s=\"The assumed\", color='grey')\n",
    "ax.text(x=0.35, y=2350, s='start of data collection', color='orange')\n",
    "ax.text(x=4.75, y=2350, s='in 2020 may reveal the popularity in beggining', color='grey')\n",
    "\n",
    "sns.despine(top=True, right=True)"
   ]
  },
  {
   "cell_type": "code",
   "execution_count": null,
   "id": "9313b037",
   "metadata": {
    "execution": {
     "iopub.execute_input": "2024-03-28T13:55:03.727009Z",
     "iopub.status.busy": "2024-03-28T13:55:03.72671Z",
     "iopub.status.idle": "2024-03-28T13:55:03.764044Z",
     "shell.execute_reply": "2024-03-28T13:55:03.763141Z",
     "shell.execute_reply.started": "2024-03-28T13:55:03.726984Z"
    },
    "papermill": {
     "duration": null,
     "end_time": null,
     "exception": null,
     "start_time": null,
     "status": "pending"
    },
    "tags": []
   },
   "outputs": [],
   "source": [
    "date_score['year_month'] = date_score['year'].astype('str') + '_' + date_score['month'].astype('str')\n",
    "date_score.head()"
   ]
  },
  {
   "cell_type": "code",
   "execution_count": null,
   "id": "ac969df2",
   "metadata": {
    "execution": {
     "iopub.execute_input": "2024-03-28T13:55:03.765732Z",
     "iopub.status.busy": "2024-03-28T13:55:03.765193Z",
     "iopub.status.idle": "2024-03-28T13:55:04.183197Z",
     "shell.execute_reply": "2024-03-28T13:55:04.182244Z",
     "shell.execute_reply.started": "2024-03-28T13:55:03.765703Z"
    },
    "papermill": {
     "duration": null,
     "end_time": null,
     "exception": null,
     "start_time": null,
     "status": "pending"
    },
    "tags": []
   },
   "outputs": [],
   "source": [
    "fig, ax = plt.subplots(figsize=(13, 5))\n",
    "                   \n",
    "sns.pointplot(data=date_score, x='year_month', y='score', \n",
    "              ax=ax, \n",
    "              errorbar='se',\n",
    "              color='grey')\n",
    "\n",
    "y_label = ax.set_ylabel('Mean Quiz Score', y=0.86,size=10)\n",
    "\n",
    "ax.set_xlim(-0.5)\n",
    "ax.set_ylim(11, 14)\n",
    "\n",
    "ax.set_xticks([-0.5, 2.5,5.5,8.5,11.5,14.5,17.5,20.5,23.5,26.5])\n",
    "ax.set_xticklabels([])\n",
    "\n",
    "ax.set_xticks([1, 4, 7, 10, 13, 16, 19, 22,25], minor=True)\n",
    "plt.tick_params(which='minor', bottom=False, top=False, left=False, right=False)\n",
    "ax.set_xticklabels(['2020 Q4','2021 Q1','2021 Q2','2021 Q3', '2021 Q4','2022 Q1','2022 Q2','2022 Q3', '2022 Q4'],\n",
    "                   minor=True,size=10)\n",
    "\n",
    "ax.set_xlabel('')\n",
    "\n",
    "ax.set_title('Quiz Perfomance Activity In Three Years', x=0.16, y=1.085, size=10)\n",
    "ax.text(x=-2.08, y=14.15, color='grey', s='Over the course of three years, there was only a ',size=10)\n",
    "ax.text(x=7.125, y=14.15, s='slight increase by 0.75 point', color='orange',size=10)\n",
    "ax.text(x=12.6, y=14.15, s='in the quiz score', color='grey',size=10)\n",
    "\n",
    "sns.lineplot(x=[-1,26], y=[11.97,12.76], color='red', linewidth=3)\n",
    "\n",
    "sns.despine(top=True, right=True)"
   ]
  },
  {
   "cell_type": "code",
   "execution_count": null,
   "id": "0bc2a941",
   "metadata": {
    "execution": {
     "iopub.execute_input": "2024-03-28T13:55:04.185195Z",
     "iopub.status.busy": "2024-03-28T13:55:04.184568Z",
     "iopub.status.idle": "2024-03-28T13:55:04.194403Z",
     "shell.execute_reply": "2024-03-28T13:55:04.19344Z",
     "shell.execute_reply.started": "2024-03-28T13:55:04.185161Z"
    },
    "papermill": {
     "duration": null,
     "end_time": null,
     "exception": null,
     "start_time": null,
     "status": "pending"
    },
    "tags": []
   },
   "outputs": [],
   "source": [
    "game_activity = date_score.groupby(['day']).size()\n",
    "game_activity.head()"
   ]
  },
  {
   "cell_type": "markdown",
   "id": "97e001c7",
   "metadata": {
    "papermill": {
     "duration": null,
     "end_time": null,
     "exception": null,
     "start_time": null,
     "status": "pending"
    },
    "tags": []
   },
   "source": []
  },
  {
   "cell_type": "code",
   "execution_count": null,
   "id": "d2a09d66",
   "metadata": {
    "execution": {
     "iopub.execute_input": "2024-03-28T13:55:04.196336Z",
     "iopub.status.busy": "2024-03-28T13:55:04.195985Z",
     "iopub.status.idle": "2024-03-28T13:55:04.408981Z",
     "shell.execute_reply": "2024-03-28T13:55:04.408Z",
     "shell.execute_reply.started": "2024-03-28T13:55:04.196304Z"
    },
    "papermill": {
     "duration": null,
     "end_time": null,
     "exception": null,
     "start_time": null,
     "status": "pending"
    },
    "tags": []
   },
   "outputs": [],
   "source": [
    "import matplotlib.pyplot as plt\n",
    "import seaborn as sns\n",
    "\n",
    "# Assuming game_activity and days are defined elsewhere\n",
    "\n",
    "fig, ax = plt.subplots(figsize=(7, 5))\n",
    "\n",
    "sns.lineplot(x=game_activity.index[4:], y=game_activity.iloc[4:],\n",
    "             ax=ax, color='blue', marker='o', markersize=8, markerfacecolor='cyan', linewidth=2)\n",
    "sns.lineplot(x=game_activity.index[:5], y=game_activity.iloc[:5],\n",
    "             ax=ax, color='red', marker='o', markersize=8, markerfacecolor='orange', linewidth=2)\n",
    "\n",
    "ax.set_xlabel('')\n",
    "\n",
    "ax.set_ylabel('Number Of Sessions', y=0.84)\n",
    "ax.set_xticks(range(1, 8))\n",
    "ax.set_xticklabels(days)\n",
    "\n",
    "ax.set_ylim(1000, 4500)\n",
    "\n",
    "ax.set_title('Game Activity Throughout The Week', x=0.215, y=1.085, size=14)\n",
    "ax.text(-1.09 + 1, 4675, 'Work hard on', color='grey', fontsize=12)\n",
    "ax.text(0.1 + 1, 4675, 'weekday', color='orange', fontsize=12)\n",
    "ax.text(0.88 + 1, 4675, '- rest on', color='grey', fontsize=12)\n",
    "ax.text(1.65 + 1, 4675, 'weekends', color='cyan', fontsize=12)\n",
    "\n",
    "sns.despine(top=True, right=True)\n",
    "\n",
    "plt.show()"
   ]
  },
  {
   "cell_type": "code",
   "execution_count": null,
   "id": "b353ae28",
   "metadata": {
    "execution": {
     "iopub.execute_input": "2024-03-28T13:55:04.410352Z",
     "iopub.status.busy": "2024-03-28T13:55:04.410051Z",
     "iopub.status.idle": "2024-03-28T13:55:04.455718Z",
     "shell.execute_reply": "2024-03-28T13:55:04.454881Z",
     "shell.execute_reply.started": "2024-03-28T13:55:04.410327Z"
    },
    "papermill": {
     "duration": null,
     "end_time": null,
     "exception": null,
     "start_time": null,
     "status": "pending"
    },
    "tags": []
   },
   "outputs": [],
   "source": [
    "import plotly.graph_objects as go\n",
    "\n",
    "# Assuming 'date_score' is your DataFrame and 'days' is a list containing day labels\n",
    "\n",
    "# Create the box plot\n",
    "fig = go.Figure()\n",
    "\n",
    "# Add box plot trace\n",
    "fig.add_trace(go.Box(\n",
    "    y=date_score['day'],  # Day data\n",
    "    x=date_score['score'],  # Score data\n",
    "    orientation='h',  # Horizontal orientation\n",
    "    marker_color='#ADD8E6',  # Marker color\n",
    "    boxmean=True  # Display mean\n",
    "))\n",
    "\n",
    "# Customize layout\n",
    "fig.update_layout(\n",
    "    title='Variance Homogeneity',\n",
    "    yaxis_title='Day',\n",
    "    xaxis_title='Score',\n",
    "    yaxis=dict(tickmode='array', tickvals=list(range(len(days))), ticktext=days),  # Customize y-axis tick labels\n",
    "    showlegend=False\n",
    ")\n",
    "\n",
    "# Show the plot\n",
    "fig.show()\n"
   ]
  },
  {
   "cell_type": "code",
   "execution_count": null,
   "id": "bd5163c1",
   "metadata": {
    "execution": {
     "iopub.execute_input": "2024-03-28T13:55:04.457112Z",
     "iopub.status.busy": "2024-03-28T13:55:04.45685Z",
     "iopub.status.idle": "2024-03-28T13:55:04.470686Z",
     "shell.execute_reply": "2024-03-28T13:55:04.469827Z",
     "shell.execute_reply.started": "2024-03-28T13:55:04.457089Z"
    },
    "papermill": {
     "duration": null,
     "end_time": null,
     "exception": null,
     "start_time": null,
     "status": "pending"
    },
    "tags": []
   },
   "outputs": [],
   "source": [
    "from scipy.stats import f_oneway\n",
    "\n",
    "groups = []\n",
    "for day in range(1,8):\n",
    "    groups.append(date_score.loc[date_score['day'] == day, 'score'].values)\n",
    "f_oneway(*groups)"
   ]
  },
  {
   "cell_type": "code",
   "execution_count": null,
   "id": "779c8154",
   "metadata": {
    "execution": {
     "iopub.execute_input": "2024-03-28T13:55:04.472637Z",
     "iopub.status.busy": "2024-03-28T13:55:04.471965Z",
     "iopub.status.idle": "2024-03-28T13:55:04.508542Z",
     "shell.execute_reply": "2024-03-28T13:55:04.507843Z",
     "shell.execute_reply.started": "2024-03-28T13:55:04.4726Z"
    },
    "papermill": {
     "duration": null,
     "end_time": null,
     "exception": null,
     "start_time": null,
     "status": "pending"
    },
    "tags": []
   },
   "outputs": [],
   "source": [
    "# Performing multiple t-tests\n",
    "from scipy.stats import ttest_ind\n",
    "\n",
    "p_value = 0.05\n",
    "comparisons = 7*6/2\n",
    "p_value = p_value/comparisons\n",
    "\n",
    "p_matrix = pd.DataFrame(index=days_abb, columns=days_abb, dtype=float)\n",
    "f_matrix = pd.DataFrame(index=days_abb, columns=days_abb, dtype=float)\n",
    "\n",
    "for i in range(len(groups)):\n",
    "    for j in range(i+1, len(groups)):\n",
    "        results = ttest_ind(groups[i], groups[j])\n",
    "        p_matrix.iloc[i,j] = results[1]\n",
    "        f_matrix.iloc[i,j] = results[0]\n",
    "            \n",
    "p_matrix = p_matrix.fillna(0)\n",
    "p_matrix = p_matrix.transpose() + p_matrix\n",
    "np.fill_diagonal(p_matrix.values, 1)\n",
    "signif_matrix = p_matrix < p_value"
   ]
  },
  {
   "cell_type": "markdown",
   "id": "3e20a800",
   "metadata": {
    "papermill": {
     "duration": null,
     "end_time": null,
     "exception": null,
     "start_time": null,
     "status": "pending"
    },
    "tags": []
   },
   "source": []
  },
  {
   "cell_type": "code",
   "execution_count": null,
   "id": "0c81d534",
   "metadata": {
    "execution": {
     "iopub.execute_input": "2024-03-28T13:55:04.509767Z",
     "iopub.status.busy": "2024-03-28T13:55:04.509513Z",
     "iopub.status.idle": "2024-03-28T13:55:04.813011Z",
     "shell.execute_reply": "2024-03-28T13:55:04.812108Z",
     "shell.execute_reply.started": "2024-03-28T13:55:04.509744Z"
    },
    "papermill": {
     "duration": null,
     "end_time": null,
     "exception": null,
     "start_time": null,
     "status": "pending"
    },
    "tags": []
   },
   "outputs": [],
   "source": [
    "cyan = (0, 100/256, 100/256,1)\n",
    "grey = (0.9,0.9,0.9,1)\n",
    "cmap = ListedColormap([grey, cyan])\n",
    "\n",
    "ax = sns.heatmap(signif_matrix, cbar=False, cmap=cmap)\n",
    "\n",
    "plt.yticks(rotation=0)\n",
    "ax.tick_params(left=False, bottom=False)\n",
    "\n",
    "ax.set_title('Significant Difference', color=cyan, x=0.11)"
   ]
  },
  {
   "cell_type": "code",
   "execution_count": null,
   "id": "87d719df",
   "metadata": {
    "execution": {
     "iopub.execute_input": "2024-03-28T13:55:04.815244Z",
     "iopub.status.busy": "2024-03-28T13:55:04.814458Z",
     "iopub.status.idle": "2024-03-28T13:55:05.325945Z",
     "shell.execute_reply": "2024-03-28T13:55:05.324979Z",
     "shell.execute_reply.started": "2024-03-28T13:55:04.815208Z"
    },
    "papermill": {
     "duration": null,
     "end_time": null,
     "exception": null,
     "start_time": null,
     "status": "pending"
    },
    "tags": []
   },
   "outputs": [],
   "source": [
    "fig, ax = plt.subplots(figsize=(7, 5))\n",
    "\n",
    "sns.pointplot(data=date_score, x='day', y='score', ax=ax,color='red')\n",
    "\n",
    "ax.set_xlabel('')\n",
    "ax.set_xticks(range(7))\n",
    "ax.set_xticklabels(days_abb)\n",
    "\n",
    "ax.set_title('Quiz Perfomance Throughout the day', x=0.179, y=1.05,color='red')\n",
    "\n",
    "ax.set_ylim(12.4,13.4)\n",
    "ax.set_ylabel('score',y=0.967)\n",
    "\n",
    "sns.despine(right=False, top=False)"
   ]
  },
  {
   "cell_type": "code",
   "execution_count": null,
   "id": "2fd99767",
   "metadata": {
    "execution": {
     "iopub.execute_input": "2024-03-28T13:55:05.328558Z",
     "iopub.status.busy": "2024-03-28T13:55:05.327222Z",
     "iopub.status.idle": "2024-03-28T13:55:05.337765Z",
     "shell.execute_reply": "2024-03-28T13:55:05.336729Z",
     "shell.execute_reply.started": "2024-03-28T13:55:05.328521Z"
    },
    "papermill": {
     "duration": null,
     "end_time": null,
     "exception": null,
     "start_time": null,
     "status": "pending"
    },
    "tags": []
   },
   "outputs": [],
   "source": [
    "game_activity = date_score.groupby('hour').size()\n",
    "game_activity.head()"
   ]
  },
  {
   "cell_type": "code",
   "execution_count": null,
   "id": "58415d24",
   "metadata": {
    "execution": {
     "iopub.execute_input": "2024-03-28T13:55:05.347629Z",
     "iopub.status.busy": "2024-03-28T13:55:05.347359Z",
     "iopub.status.idle": "2024-03-28T13:55:05.403122Z",
     "shell.execute_reply": "2024-03-28T13:55:05.40232Z",
     "shell.execute_reply.started": "2024-03-28T13:55:05.347605Z"
    },
    "papermill": {
     "duration": null,
     "end_time": null,
     "exception": null,
     "start_time": null,
     "status": "pending"
    },
    "tags": []
   },
   "outputs": [],
   "source": [
    "import plotly.graph_objects as go\n",
    "\n",
    "# Assuming 'game_activity' is your DataFrame or Series containing the hourly activity data\n",
    "\n",
    "fig = go.Figure()\n",
    "\n",
    "fig.add_trace(go.Scatter(x=game_activity.index, y=game_activity, mode='lines', line=dict(color='grey', width=2)))\n",
    "\n",
    "fig.update_layout(\n",
    "    title='Game Activity Throughout the Day',\n",
    "    xaxis=dict(\n",
    "        title='Hour',\n",
    "        tickvals=list(range(24)),\n",
    "        range=[0, 23],\n",
    "        tickfont=dict(size=12),\n",
    "        tickangle=-45\n",
    "    ),\n",
    "    yaxis=dict(\n",
    "        title='Number Of Sessions',\n",
    "        range=[0, 3000],\n",
    "        tickfont=dict(size=12),\n",
    "        gridcolor='lightgrey'\n",
    "    ),\n",
    "    annotations=[\n",
    "        dict(\n",
    "            x=-1.59,\n",
    "            y=3170,\n",
    "            xref=\"x\",\n",
    "            yref=\"y\",\n",
    "            text=\"Players' activity aligns with the\",\n",
    "            showarrow=False,\n",
    "            font=dict(color='grey', size=12)\n",
    "        ),\n",
    "        dict(\n",
    "            x=3.78,\n",
    "            y=3170,\n",
    "            xref=\"x\",\n",
    "            yref=\"y\",\n",
    "            text=\"human biological rhythm\",\n",
    "            showarrow=False,\n",
    "            font=dict(color='orange', size=12)\n",
    "        )\n",
    "    ],\n",
    "    plot_bgcolor='rgba(0,0,0,0)',\n",
    "    paper_bgcolor='rgba(0,0,0,0)',\n",
    ")\n",
    "\n",
    "fig.show()\n"
   ]
  },
  {
   "cell_type": "code",
   "execution_count": null,
   "id": "327acf98",
   "metadata": {
    "execution": {
     "iopub.execute_input": "2024-03-28T13:55:05.404322Z",
     "iopub.status.busy": "2024-03-28T13:55:05.404055Z",
     "iopub.status.idle": "2024-03-28T13:55:05.767952Z",
     "shell.execute_reply": "2024-03-28T13:55:05.766989Z",
     "shell.execute_reply.started": "2024-03-28T13:55:05.404272Z"
    },
    "papermill": {
     "duration": null,
     "end_time": null,
     "exception": null,
     "start_time": null,
     "status": "pending"
    },
    "tags": []
   },
   "outputs": [],
   "source": [
    "fig, ax = plt.subplots(figsize=(12,4))\n",
    "\n",
    "sns.pointplot(data=date_score, x='hour', y='score', \n",
    "              errorbar='se',\n",
    "              color='grey')\n",
    "\n",
    "ax.set_title('Quiz Perfomance throughout the day', size=14, x=0.128, y=1.1)\n",
    "ax.text(x=-2.05, y=15.2,s='For simplicity of our analysis we do categorical', color='grey')\n",
    "ax.text(x=6.52, y=15.2,s='projection', color='black')\n",
    "ax.set_ylabel('score', y=0.962)\n",
    "ax.set_ylim(11.5,15)\n",
    "\n",
    "plt.axvline(x = 5.5, color = 'black', linestyle='--')\n",
    "plt.axvline(x = 11.5, color = 'black', linestyle='--')\n",
    "plt.axvline(x = 17.5, color = 'black', linestyle='--')\n",
    "\n",
    "ax.text(x=0.5,y=14.5,s='Night')\n",
    "ax.text(x=6.5,y=14.5,s='Morning')\n",
    "ax.text(x=12.5,y=14.5,s='Day')\n",
    "ax.text(18.5,y=14.5,s='Evening')\n",
    "\n",
    "sns.despine(right=True, top=True)"
   ]
  },
  {
   "cell_type": "code",
   "execution_count": null,
   "id": "14c1d3c5",
   "metadata": {
    "execution": {
     "iopub.execute_input": "2024-03-28T13:55:05.769398Z",
     "iopub.status.busy": "2024-03-28T13:55:05.769088Z",
     "iopub.status.idle": "2024-03-28T13:55:05.786235Z",
     "shell.execute_reply": "2024-03-28T13:55:05.785248Z",
     "shell.execute_reply.started": "2024-03-28T13:55:05.769373Z"
    },
    "papermill": {
     "duration": null,
     "end_time": null,
     "exception": null,
     "start_time": null,
     "status": "pending"
    },
    "tags": []
   },
   "outputs": [],
   "source": [
    "day_time = {}\n",
    "\n",
    "for i in range(24):\n",
    "    if i < 6:\n",
    "        day_time[i] = 0\n",
    "    elif i < 12:\n",
    "        day_time[i] = 1\n",
    "    elif i < 18:\n",
    "        day_time[i] = 2\n",
    "    else:\n",
    "        day_time[i] = 3\n",
    "\n",
    "date_score['day_time'] = date_score['hour'].map(day_time)\n",
    "date_score.head()"
   ]
  },
  {
   "cell_type": "code",
   "execution_count": null,
   "id": "b98439bb",
   "metadata": {
    "execution": {
     "iopub.execute_input": "2024-03-28T13:55:05.787597Z",
     "iopub.status.busy": "2024-03-28T13:55:05.787275Z",
     "iopub.status.idle": "2024-03-28T13:55:05.797671Z",
     "shell.execute_reply": "2024-03-28T13:55:05.796786Z",
     "shell.execute_reply.started": "2024-03-28T13:55:05.787562Z"
    },
    "papermill": {
     "duration": null,
     "end_time": null,
     "exception": null,
     "start_time": null,
     "status": "pending"
    },
    "tags": []
   },
   "outputs": [],
   "source": [
    "performance = date_score.groupby('day_time')['score'].mean()\n",
    "performance"
   ]
  },
  {
   "cell_type": "code",
   "execution_count": null,
   "id": "4eb19fe0",
   "metadata": {
    "execution": {
     "iopub.execute_input": "2024-03-28T13:55:05.799525Z",
     "iopub.status.busy": "2024-03-28T13:55:05.799034Z",
     "iopub.status.idle": "2024-03-28T13:55:05.997727Z",
     "shell.execute_reply": "2024-03-28T13:55:05.996809Z",
     "shell.execute_reply.started": "2024-03-28T13:55:05.799492Z"
    },
    "papermill": {
     "duration": null,
     "end_time": null,
     "exception": null,
     "start_time": null,
     "status": "pending"
    },
    "tags": []
   },
   "outputs": [],
   "source": [
    "fig, ax = plt.subplots(figsize=(9,4))\n",
    "\n",
    "sns.pointplot(data=date_score, x='day_time', y='score', \n",
    "              errorbar='se',\n",
    "              color='grey')\n",
    "\n",
    "ax.set_title('Quiz Perfomance throughout the day', size=12, x=0.172, y=1.1)\n",
    "ax.text(x=-0.83,y=13.45,s='Statistically significant', color='grey',size=10)\n",
    "ax.text(x=0.1,y=13.45,s='difference', color='orange',size=10)\n",
    "ax.text(x=0.53,y=13.45,s='observed in 2 pairs', color='grey',size=10)\n",
    "\n",
    "ax.set_ylabel('score', y=0.96,size=10)\n",
    "ax.set_ylim(12.5,13.4,)\n",
    "\n",
    "ax.set_xticklabels(['Night', 'Morning', 'Day', 'Evening'],size=10)\n",
    "ax.set_xlabel('')\n",
    "\n",
    "arrow = ConnectionPatch(xyA=(1, performance[1]),\n",
    "                        xyB=(3, performance[3]),\n",
    "                        coordsA=\"data\",\n",
    "                        coordsB=\"data\",\n",
    "                        arrowstyle='<|-|>,head_width=0.4,head_length=0.8',\n",
    "                        linewidth=1.5,\n",
    "                        edgecolor='orange',\n",
    "                        facecolor='orange',\n",
    "                        connectionstyle='arc3,rad=.4')\n",
    "ax.add_artist(arrow)\n",
    "                        \n",
    "arrow = ConnectionPatch(xyA=(2, performance[2]),\n",
    "                        xyB=(3, performance[3]),\n",
    "                        coordsA=\"data\",\n",
    "                        coordsB=\"data\",\n",
    "                        arrowstyle='<|-|>,head_width=0.4,head_length=0.8',\n",
    "                        linewidth=1.5,\n",
    "                        edgecolor='orange',\n",
    "                        facecolor='orange',\n",
    "                        connectionstyle='arc3,rad=.3')\n",
    "ax.add_artist(arrow)\n",
    "\n",
    "sns.despine(right=True, top=True)"
   ]
  },
  {
   "cell_type": "code",
   "execution_count": null,
   "id": "052ebbeb",
   "metadata": {
    "papermill": {
     "duration": null,
     "end_time": null,
     "exception": null,
     "start_time": null,
     "status": "pending"
    },
    "tags": []
   },
   "outputs": [],
   "source": []
  },
  {
   "cell_type": "code",
   "execution_count": null,
   "id": "2e1070d5",
   "metadata": {
    "execution": {
     "iopub.execute_input": "2024-03-28T13:55:06.001173Z",
     "iopub.status.busy": "2024-03-28T13:55:05.998916Z",
     "iopub.status.idle": "2024-03-28T13:55:06.059069Z",
     "shell.execute_reply": "2024-03-28T13:55:06.058336Z",
     "shell.execute_reply.started": "2024-03-28T13:55:06.00114Z"
    },
    "papermill": {
     "duration": null,
     "end_time": null,
     "exception": null,
     "start_time": null,
     "status": "pending"
    },
    "tags": []
   },
   "outputs": [],
   "source": [
    "import numpy as np\n",
    "import pandas as pd \n",
    "\n",
    "from string import Template\n",
    "from IPython.core.display import display, HTML, Javascript\n",
    "import imageio\n",
    "from PIL import Image\n",
    "import os"
   ]
  },
  {
   "cell_type": "code",
   "execution_count": null,
   "id": "78f2a361",
   "metadata": {
    "execution": {
     "iopub.execute_input": "2024-03-28T13:55:06.060449Z",
     "iopub.status.busy": "2024-03-28T13:55:06.060098Z",
     "iopub.status.idle": "2024-03-28T13:55:06.067057Z",
     "shell.execute_reply": "2024-03-28T13:55:06.066085Z",
     "shell.execute_reply.started": "2024-03-28T13:55:06.060416Z"
    },
    "papermill": {
     "duration": null,
     "end_time": null,
     "exception": null,
     "start_time": null,
     "status": "pending"
    },
    "tags": []
   },
   "outputs": [],
   "source": [
    "%%javascript\n",
    "require.config({\n",
    "    paths: { \n",
    "        d3: 'https://d3js.org/d3.v6.min'\n",
    "    }\n",
    "});"
   ]
  },
  {
   "cell_type": "code",
   "execution_count": null,
   "id": "f0fdc115",
   "metadata": {
    "execution": {
     "iopub.execute_input": "2024-03-28T13:55:06.068531Z",
     "iopub.status.busy": "2024-03-28T13:55:06.068188Z",
     "iopub.status.idle": "2024-03-28T13:55:24.981389Z",
     "shell.execute_reply": "2024-03-28T13:55:24.980493Z",
     "shell.execute_reply.started": "2024-03-28T13:55:06.068507Z"
    },
    "papermill": {
     "duration": null,
     "end_time": null,
     "exception": null,
     "start_time": null,
     "status": "pending"
    },
    "tags": []
   },
   "outputs": [],
   "source": [
    "img_dir = '/kaggle/input/guru-hub-data/'\n",
    "for img in os.listdir(img_dir):\n",
    "    img_path = os.path.join(img_dir, img)\n",
    "    im = imageio.imread(img_path)\n",
    "    Image.fromarray(im).save(img)"
   ]
  },
  {
   "cell_type": "code",
   "execution_count": null,
   "id": "6063cb33",
   "metadata": {
    "execution": {
     "iopub.execute_input": "2024-03-28T13:55:24.982849Z",
     "iopub.status.busy": "2024-03-28T13:55:24.982551Z",
     "iopub.status.idle": "2024-03-28T13:56:40.33447Z",
     "shell.execute_reply": "2024-03-28T13:56:40.333462Z",
     "shell.execute_reply.started": "2024-03-28T13:55:24.982824Z"
    },
    "papermill": {
     "duration": null,
     "end_time": null,
     "exception": null,
     "start_time": null,
     "status": "pending"
    },
    "tags": []
   },
   "outputs": [],
   "source": [
    "train_df = pd.read_csv('/kaggle/input/predict-student-performance-from-game-play/train.csv')\n",
    "train_df.head()"
   ]
  },
  {
   "cell_type": "code",
   "execution_count": null,
   "id": "e6ec6b66",
   "metadata": {
    "execution": {
     "iopub.execute_input": "2024-03-28T13:56:40.336218Z",
     "iopub.status.busy": "2024-03-28T13:56:40.335853Z",
     "iopub.status.idle": "2024-03-28T13:56:42.792594Z",
     "shell.execute_reply": "2024-03-28T13:56:42.791639Z",
     "shell.execute_reply.started": "2024-03-28T13:56:40.336185Z"
    },
    "papermill": {
     "duration": null,
     "end_time": null,
     "exception": null,
     "start_time": null,
     "status": "pending"
    },
    "tags": []
   },
   "outputs": [],
   "source": [
    "unique_rooms = train_df.room_fqid.unique()\n",
    "print(\"Number of unique rooms - \", len(unique_rooms))\n",
    "print(unique_rooms)"
   ]
  },
  {
   "cell_type": "code",
   "execution_count": null,
   "id": "3e3a89d8",
   "metadata": {
    "execution": {
     "iopub.execute_input": "2024-03-28T13:56:42.794244Z",
     "iopub.status.busy": "2024-03-28T13:56:42.793859Z",
     "iopub.status.idle": "2024-03-28T14:01:42.018422Z",
     "shell.execute_reply": "2024-03-28T14:01:42.017308Z",
     "shell.execute_reply.started": "2024-03-28T13:56:42.794209Z"
    },
    "papermill": {
     "duration": null,
     "end_time": null,
     "exception": null,
     "start_time": null,
     "status": "pending"
    },
    "tags": []
   },
   "outputs": [],
   "source": [
    "# Find the size of each room\n",
    "room_bounds = {room:\n",
    "{\"x_min\": train_df.loc[train_df.room_fqid==room, 'room_coor_x'].min(),\n",
    " \"x_max\": train_df.loc[train_df.room_fqid==room,\"room_coor_x\"].max(),\n",
    "  \"y_min\": train_df.loc[train_df.room_fqid==room,\"room_coor_y\"].min(),\n",
    "  \"y_max\": train_df.loc[train_df.room_fqid==room,\"room_coor_y\"].max()\n",
    "  } for room in unique_rooms}"
   ]
  },
  {
   "cell_type": "code",
   "execution_count": null,
   "id": "fbe72cdb",
   "metadata": {
    "papermill": {
     "duration": null,
     "end_time": null,
     "exception": null,
     "start_time": null,
     "status": "pending"
    },
    "tags": []
   },
   "outputs": [],
   "source": []
  },
  {
   "cell_type": "code",
   "execution_count": null,
   "id": "1736bf8b",
   "metadata": {
    "execution": {
     "iopub.execute_input": "2024-03-28T14:01:42.02017Z",
     "iopub.status.busy": "2024-03-28T14:01:42.019829Z",
     "iopub.status.idle": "2024-03-28T14:02:37.86538Z",
     "shell.execute_reply": "2024-03-28T14:02:37.864317Z",
     "shell.execute_reply.started": "2024-03-28T14:01:42.020132Z"
    },
    "papermill": {
     "duration": null,
     "end_time": null,
     "exception": null,
     "start_time": null,
     "status": "pending"
    },
    "tags": []
   },
   "outputs": [],
   "source": [
    "# Set room sizes for each record\n",
    "train_df['room_x_max'] = train_df.room_fqid.map(lambda x: room_bounds[x]['x_max'])\n",
    "train_df['room_x_min'] = train_df.room_fqid.map(lambda x: room_bounds[x]['x_min'])\n",
    "train_df['room_y_max'] = train_df.room_fqid.map(lambda x: room_bounds[x]['y_max'])\n",
    "train_df['room_y_min'] = train_df.room_fqid.map(lambda x: room_bounds[x]['y_min'])"
   ]
  },
  {
   "cell_type": "code",
   "execution_count": null,
   "id": "48404aad",
   "metadata": {
    "papermill": {
     "duration": null,
     "end_time": null,
     "exception": null,
     "start_time": null,
     "status": "pending"
    },
    "tags": []
   },
   "outputs": [],
   "source": []
  },
  {
   "cell_type": "code",
   "execution_count": null,
   "id": "d6fb9f97",
   "metadata": {
    "execution": {
     "iopub.execute_input": "2024-03-28T14:02:37.867524Z",
     "iopub.status.busy": "2024-03-28T14:02:37.866793Z",
     "iopub.status.idle": "2024-03-28T14:02:41.983074Z",
     "shell.execute_reply": "2024-03-28T14:02:41.982298Z",
     "shell.execute_reply.started": "2024-03-28T14:02:37.867488Z"
    },
    "papermill": {
     "duration": null,
     "end_time": null,
     "exception": null,
     "start_time": null,
     "status": "pending"
    },
    "tags": []
   },
   "outputs": [],
   "source": [
    "print(\"Unique events - \", train_df.event_name.unique())\n",
    "# Select only click events\n",
    "click_events = [event for event in train_df.event_name.unique() if 'click' in event]"
   ]
  },
  {
   "cell_type": "code",
   "execution_count": null,
   "id": "97452cbf",
   "metadata": {
    "execution": {
     "iopub.execute_input": "2024-03-28T14:02:41.984473Z",
     "iopub.status.busy": "2024-03-28T14:02:41.984188Z",
     "iopub.status.idle": "2024-03-28T14:02:41.98932Z",
     "shell.execute_reply": "2024-03-28T14:02:41.988177Z",
     "shell.execute_reply.started": "2024-03-28T14:02:41.984449Z"
    },
    "papermill": {
     "duration": null,
     "end_time": null,
     "exception": null,
     "start_time": null,
     "status": "pending"
    },
    "tags": []
   },
   "outputs": [],
   "source": [
    "# The list of columns that we want to save. \n",
    "# Only the info related to clicks\n",
    "columns=['room_fqid','elapsed_time', 'event_name', 'room_coor_x', 'room_coor_y', 'screen_coor_x', 'screen_coor_y' , 'room_x_max', 'room_x_min', 'room_y_max', 'room_y_min']"
   ]
  },
  {
   "cell_type": "code",
   "execution_count": null,
   "id": "7f8e66ef",
   "metadata": {
    "execution": {
     "iopub.execute_input": "2024-03-28T14:02:41.990632Z",
     "iopub.status.busy": "2024-03-28T14:02:41.990391Z",
     "iopub.status.idle": "2024-03-28T14:02:43.668693Z",
     "shell.execute_reply": "2024-03-28T14:02:43.667847Z",
     "shell.execute_reply.started": "2024-03-28T14:02:41.990611Z"
    },
    "papermill": {
     "duration": null,
     "end_time": null,
     "exception": null,
     "start_time": null,
     "status": "pending"
    },
    "tags": []
   },
   "outputs": [],
   "source": [
    "# select session which you want to display\n",
    "session_id = 20090312431273200\n",
    "one_session_events = train_df.loc[(train_df.session_id==session_id)&(train_df.event_name.isin(click_events))]\n",
    "one_session_events.head()\n",
    "# save session \n",
    "one_session_events.sort_values(by='elapsed_time').loc[:,columns].to_csv('one_session_events.csv', index=False)"
   ]
  },
  {
   "cell_type": "code",
   "execution_count": null,
   "id": "896a5eb8",
   "metadata": {
    "execution": {
     "iopub.execute_input": "2024-03-28T14:02:43.670501Z",
     "iopub.status.busy": "2024-03-28T14:02:43.670071Z",
     "iopub.status.idle": "2024-03-28T14:02:43.677Z",
     "shell.execute_reply": "2024-03-28T14:02:43.676129Z",
     "shell.execute_reply.started": "2024-03-28T14:02:43.670465Z"
    },
    "papermill": {
     "duration": null,
     "end_time": null,
     "exception": null,
     "start_time": null,
     "status": "pending"
    },
    "tags": []
   },
   "outputs": [],
   "source": [
    "css_text = Template('''\n",
    "#functionality {\n",
    "    display: flex;\n",
    "    justify-content: center;\n",
    "    flex-wrap: wrap;\n",
    "    padding-top: 20px; /* Increase padding for better spacing */\n",
    "}\n",
    "\n",
    "#scene {\n",
    "    padding-top: 30px; /* Increase padding for better separation */\n",
    "}\n",
    "\n",
    "select {\n",
    "    font-size: 18px; /* Slightly increase font size */\n",
    "    margin-left: 20px; /* Adjust margin for better alignment */\n",
    "    padding: 10px; /* Add padding for better spacing */\n",
    "    border: 1px solid #4CAF50; /* Add border with a green color */\n",
    "    border-radius: 8px; /* Add border radius for rounded corners */\n",
    "    background-color: #E8F6EF; /* Light green background color */\n",
    "    color: #333; /* Darken font color */\n",
    "}\n",
    "\n",
    "button {\n",
    "    font-size: 18px; /* Slightly increase font size */\n",
    "    margin-left: 20px; /* Adjust margin for better alignment */\n",
    "    padding: 10px 20px; /* Add padding for better spacing */\n",
    "    border: none; /* Remove border */\n",
    "    border-radius: 8px; /* Add border radius for rounded corners */\n",
    "    background-color: #4CAF50; /* Green background color */\n",
    "    color: white; /* Font color */\n",
    "    cursor: pointer; /* Add pointer cursor */\n",
    "    transition: background-color 0.3s; /* Smooth transition for background color */\n",
    "}\n",
    "\n",
    "button:hover {\n",
    "    background-color: #45a049; /* Darken background color on hover */\n",
    "}\n",
    "\n",
    "#all{\n",
    "    background-color: #F5F5F5; /* Light gray background color */\n",
    "    padding: 30px; /* Add padding for better spacing */\n",
    "    border-radius: 12px; /* Add border radius for rounded corners */\n",
    "    box-shadow: 0px 4px 10px rgba(0, 0, 0, 0.2); /* Add subtle box shadow */\n",
    "}\n",
    "\n",
    "\n",
    "''')\n"
   ]
  },
  {
   "cell_type": "code",
   "execution_count": null,
   "id": "f645afb8",
   "metadata": {
    "execution": {
     "iopub.execute_input": "2024-03-28T14:02:43.678263Z",
     "iopub.status.busy": "2024-03-28T14:02:43.67801Z",
     "iopub.status.idle": "2024-03-28T14:02:43.688653Z",
     "shell.execute_reply": "2024-03-28T14:02:43.687781Z",
     "shell.execute_reply.started": "2024-03-28T14:02:43.678241Z"
    },
    "papermill": {
     "duration": null,
     "end_time": null,
     "exception": null,
     "start_time": null,
     "status": "pending"
    },
    "tags": []
   },
   "outputs": [],
   "source": [
    "htmlt = Template('''\n",
    "<!-- Style -->\n",
    "<style>\n",
    "$css_file\n",
    "</style>\n",
    "<img id=\"baseimg\" src=\"tunic.historicalsociety.closet.jpg\" style=\"display:none\" />\n",
    "<div id=\"all\">\n",
    "    <div id=\"functionality\">\n",
    "            <select id=\"room\">\n",
    "                <option value=\"tunic.historicalsociety.closet\" selected>tunic.historicalsociety.closet</option>\n",
    "                <option value=\"tunic.historicalsociety.basement\">tunic.historicalsociety.basement</option>\n",
    "                <option value=\"tunic.historicalsociety.entry\">tunic.historicalsociety.entry</option>\n",
    "                <option value=\"tunic.historicalsociety.collection\">tunic.historicalsociety.collection</option>\n",
    "                <option value=\"tunic.historicalsociety.stacks\">tunic.historicalsociety.stacks</option>\n",
    "                <option value=\"tunic.kohlcenter.halloffame\">tunic.kohlcenter.halloffame</option>\n",
    "                <option value=\"tunic.capitol_0.hall\">tunic.capitol_0.hall</option>\n",
    "                <option value=\"tunic.historicalsociety.closet_dirty\">tunic.historicalsociety.closet_dirty</option>\n",
    "                <option value=\"tunic.historicalsociety.frontdesk\">tunic.historicalsociety.frontdesk</option>\n",
    "                <option value=\"tunic.humanecology.frontdesk\">tunic.humanecology.frontdesk</option>\n",
    "                <option value=\"tunic.drycleaner.frontdesk\">tunic.drycleaner.frontdesk</option>\n",
    "                <option value=\"tunic.library.frontdesk\">tunic.library.frontdesk</option>\n",
    "                <option value=\"tunic.library.microfiche\">tunic.library.microfiche</option>\n",
    "                <option value=\"tunic.capitol_1.hall\">tunic.capitol_1.hall</option>\n",
    "                <option value=\"tunic.historicalsociety.cage\">tunic.historicalsociety.cage</option>\n",
    "                <option value=\"tunic.historicalsociety.collection_flag\">tunic.historicalsociety.collection_flag</option>\n",
    "                <option value=\"tunic.wildlife.center\">tunic.wildlife.center</option>\n",
    "                <option value=\"tunic.flaghouse.entry\">tunic.flaghouse.entry</option>\n",
    "                <option value=\"tunic.capitol_2.hall\">tunic.capitol_2.hall</option>\n",
    "            </select>\n",
    "            <select id=\"event_type\">\n",
    "                <option value=\"all\" selected>All</option>\n",
    "                <option value=\"cutscene_click\">cutscene_click</option>\n",
    "                <option value=\"person_click\">person_click</option>\n",
    "                <option value=\"navigate_click\">navigate_click</option>\n",
    "                <option value=\"observation_click\">observation_click</option>\n",
    "                <option value=\"notification_click\">notification_click</option>\n",
    "                <option value=\"object_click\">object_click</option>\n",
    "                <option value=\"map_click\">map_click</option>\n",
    "                <option value=\"notebook_click\">notebook_click</option>\n",
    "            </select>\n",
    "            <button id=\"start_stop\">START</button>\n",
    "            <button id=\"reset\">RESET</button>\n",
    "    </div>\n",
    "    <div id=\"scene\"></div>\n",
    "    <div id=\"legend\"></div>\n",
    "</div>\n",
    "''')"
   ]
  },
  {
   "cell_type": "code",
   "execution_count": null,
   "id": "6f28e5e6",
   "metadata": {
    "execution": {
     "iopub.execute_input": "2024-03-28T14:02:43.690446Z",
     "iopub.status.busy": "2024-03-28T14:02:43.690097Z",
     "iopub.status.idle": "2024-03-28T14:02:43.706897Z",
     "shell.execute_reply": "2024-03-28T14:02:43.705948Z",
     "shell.execute_reply.started": "2024-03-28T14:02:43.690416Z"
    },
    "papermill": {
     "duration": null,
     "end_time": null,
     "exception": null,
     "start_time": null,
     "status": "pending"
    },
    "tags": []
   },
   "outputs": [],
   "source": [
    "js_t = Template('''\n",
    "require([\"d3\"], function(d3) {\n",
    "\n",
    "    // Get Assets URL set by Kaggle\n",
    "    const baseAssetsUrl = document.getElementById('baseimg').src.replace(/tunic.historicalsociety.closet.jpg.*$/, '');\n",
    "\n",
    "    function draw_scene(room=document.getElementById(\"room\").value) {\n",
    "    \n",
    "        d3.csv(baseAssetsUrl + \"one_session_events.csv\").then(\n",
    "            function (dataset) {\n",
    "            \n",
    "               dataset =  dataset.filter(d => d.room_fqid == room)\n",
    "               \n",
    "               const xAccessor = d => +d.room_coor_x\n",
    "                const yAccessor = d => +d.room_coor_y\n",
    "                const userXCoor = d => +d.screen_coor_x\n",
    "                const userYCoor = d => +d.screen_coor_y\n",
    "                const eventName = d => d.event_name\n",
    "\n",
    "                const xMin = +dataset[0].room_x_min\n",
    "                const xMax = +dataset[0].room_x_max\n",
    "                const yMin = +dataset[0].room_y_min\n",
    "                const yMax = +dataset[0].room_y_max\n",
    "\n",
    "                const dimensions = {\n",
    "                    width: 850,\n",
    "                    height: 400,\n",
    "                    margins: 50,\n",
    "                    userWidth: 380,\n",
    "                    userHeight: 360\n",
    "                }\n",
    "\n",
    "                const xScale = d3.scaleLinear()\n",
    "                    .domain([xMin, xMax])\n",
    "                    .range([0, dimensions.width])\n",
    "\n",
    "                const yScale = d3.scaleLinear()\n",
    "                    .domain([yMin, yMax])\n",
    "                    .range([dimensions.height, 0])\n",
    "\n",
    "                const eventColors = d3.scaleOrdinal()\n",
    "                    .domain(dataset.map(d => d.event_name))\n",
    "                    .range(d3.schemeCategory10)\n",
    "\n",
    "                // Draw scene\n",
    "                const svg = d3.select(\"#scene\")\n",
    "                    .append(\"svg\")\n",
    "                    .attr(\"width\", dimensions.width)\n",
    "                    .attr(\"height\", dimensions.height)\n",
    "                    .style(\"background-image\", `url(\"${baseAssetsUrl}${room}.jpg\")`)\n",
    "                    .style(\"background-size\", \"100% 100%\")\n",
    "                    \n",
    "                //Draw legend\n",
    "                const legendContainer = d3.select(\"#legend\").append(\"svg\")\n",
    "                    .attr(\"width\", dimensions.width)\n",
    "                    .attr(\"height\", 75)\n",
    "\n",
    "                legendContainer.append('rect')\n",
    "                    .attr(\"x\", 0)\n",
    "                    .attr(\"y\", 0)\n",
    "                    .attr(\"width\", dimensions.width)\n",
    "                    .attr(\"height\", 70)\n",
    "                    .attr(\"fill\", \"none\")\n",
    "                    .attr(\"stroke\", \"black\")\n",
    "                    .attr(\"stroke-width\", 3)\n",
    "                    .attr(\"stroke-dasharray\", \"10 10\")\n",
    "\n",
    "                legendContainer.selectAll(\"circle\")\n",
    "                    .data(eventColors.domain())\n",
    "                    .join(\"circle\")\n",
    "                    .attr(\"cx\", (d, i) => 100 * (i+1) )\n",
    "                    .attr(\"cy\", 25)\n",
    "                    .attr(\"r\", 7)\n",
    "                    .attr(\"fill\", \"none\")\n",
    "                    .attr(\"stroke\", d => eventColors(d))\n",
    "                    .attr(\"stroke-width\", 5)\n",
    "                    \n",
    "\n",
    "                legendContainer.append('rect')\n",
    "                    .attr(\"x\", 100 * (eventColors.domain().length+1))\n",
    "                    .attr(\"y\", 15)\n",
    "                    .attr(\"width\", 14)\n",
    "                    .attr(\"height\", 14)\n",
    "                    .attr(\"fill\", \"none\")\n",
    "                    .attr(\"stroke\", \"red\")\n",
    "                    .attr(\"stroke-width\", 5)\n",
    "\n",
    "                legendContainer.selectAll(\"text\")\n",
    "                    .data(eventColors.domain())\n",
    "                    .join(\"text\")\n",
    "                    .attr(\"x\", (d, i) => 100 * (i+0.7))\n",
    "                    .attr(\"y\", 50)\n",
    "                    .attr(\"font-size\", 11)\n",
    "                    .attr(\"font-weight\", \"bold\")\n",
    "                    .text(d => d)\n",
    "\n",
    "                legendContainer.append(\"text\")\n",
    "                    .attr(\"x\", 100 * (eventColors.domain().length+0.7))\n",
    "                    .attr(\"y\", 50)\n",
    "                    .attr(\"font-size\", 11)\n",
    "                    .attr(\"font-weight\", \"bold\")\n",
    "                    .text(\"user screen\")\n",
    "                    \n",
    "                    \n",
    "                function draw_touches(event_type) {\n",
    "                    let data;\n",
    "                    if (event_type != \"all\") {\n",
    "                        data = dataset.filter(d => d.event_name === event_type)\n",
    "                    }else{\n",
    "                        data = dataset;\n",
    "                    }\n",
    "\n",
    "                    // Draw all touches and screens\n",
    "                    const touches = svg.selectAll(\"circle\")\n",
    "                        .data(data)\n",
    "                        .join(enter => enter.append(\"circle\")\n",
    "                            .attr(\"cx\", d => xScale(xAccessor(d)))\n",
    "                            .attr(\"cy\", d => yScale(yAccessor(d)))\n",
    "                            .attr(\"r\", 20)\n",
    "                            .attr(\"fill\", \"none\")\n",
    "                            .attr(\"stroke\", d => eventColors(eventName(d)))\n",
    "                            .attr(\"stroke-width\", 3)\n",
    "                            .attr('opacity', 0)\n",
    "                        )\n",
    "\n",
    "                    const screens = svg.selectAll(\"rect\")\n",
    "                        .data(data)\n",
    "                        .join(\n",
    "                            enter => enter.append(\"rect\")\n",
    "                                .attr(\"x\", d => xScale(xAccessor(d)) - (userXCoor(d)*0.42))\n",
    "                                .attr(\"y\", d => dimensions.height - dimensions.userHeight - (yScale(yAccessor(d)) - (userYCoor(d)*0.55)))\n",
    "                                .attr(\"width\", dimensions.userWidth)\n",
    "                                .attr(\"height\", dimensions.userHeight)\n",
    "                                .attr(\"fill\", \"none\") \n",
    "                                .attr(\"stroke\", \"red\")\n",
    "                                .attr(\"stroke-width\", 3)\n",
    "                                .attr('opacity', 0)\n",
    "                        )\n",
    "\n",
    "                    d3.select(\"#start_stop\").on(\"click\", function () {\n",
    "                        // Show touches by order\n",
    "                        touches\n",
    "                            .transition(500)\n",
    "                            .delay((d, i) => i * 1000)\n",
    "                            .attr('opacity', 1)\n",
    "                            .transition()\n",
    "                            .duration(1000)\n",
    "                            .attr(\"r\", 10)\n",
    "                            .attr(\"opacity\", 0.45)\n",
    "\n",
    "                        screens\n",
    "                            .transition()\n",
    "                            .attr('opacity', 1)\n",
    "                            .delay((d, i) => i * 1000)\n",
    "                            .transition()\n",
    "                            .duration(1050)\n",
    "                            .remove()\n",
    "                    });\n",
    "                }\n",
    "            draw_touches(document.querySelector(\"#event_type\").value)\n",
    "            \n",
    "            // Event listeners\n",
    "            d3.select(\"#reset\").on(\"click\", function () {\n",
    "                svg.selectAll(\"*\").remove()\n",
    "                draw_touches(document.querySelector(\"#event_type\").value)\n",
    "                })\n",
    "                \n",
    "            d3.select(\"#event_type\")\n",
    "                .on(\"change\", function (e) {\n",
    "                    e.preventDefault()\n",
    "                    svg.selectAll(\"*\").remove()\n",
    "                    draw_touches(this.value)\n",
    "                })\n",
    "    \n",
    "                    \n",
    "        })\n",
    "        d3.select(\"#room\")\n",
    "            .on(\"change\", function (e) {\n",
    "                e.preventDefault()\n",
    "                d3.select(\"#scene\").selectAll(\"*\").remove()\n",
    "                d3.select(\"#legend\").selectAll(\"*\").remove()\n",
    "                draw_scene(this.value)\n",
    "            })\n",
    "    }\n",
    "    draw_scene()  \n",
    "});\n",
    "'''\n",
    ")"
   ]
  },
  {
   "cell_type": "code",
   "execution_count": null,
   "id": "628ec39e",
   "metadata": {
    "execution": {
     "iopub.execute_input": "2024-03-28T14:02:43.708346Z",
     "iopub.status.busy": "2024-03-28T14:02:43.707995Z",
     "iopub.status.idle": "2024-03-28T14:02:43.723905Z",
     "shell.execute_reply": "2024-03-28T14:02:43.723031Z",
     "shell.execute_reply.started": "2024-03-28T14:02:43.708313Z"
    },
    "papermill": {
     "duration": null,
     "end_time": null,
     "exception": null,
     "start_time": null,
     "status": "pending"
    },
    "tags": []
   },
   "outputs": [],
   "source": [
    "# Display game\n",
    "h = display(HTML(htmlt.safe_substitute(\n",
    "    {\"css_file\":css_text.substitute()})))\n",
    "\n",
    "j = py_display.Javascript(js_t.safe_substitute())\n",
    "py_display.display_javascript(j)"
   ]
  },
  {
   "cell_type": "code",
   "execution_count": null,
   "id": "2aa28a16",
   "metadata": {
    "papermill": {
     "duration": null,
     "end_time": null,
     "exception": null,
     "start_time": null,
     "status": "pending"
    },
    "tags": []
   },
   "outputs": [],
   "source": []
  },
  {
   "cell_type": "markdown",
   "id": "daf74688",
   "metadata": {
    "papermill": {
     "duration": null,
     "end_time": null,
     "exception": null,
     "start_time": null,
     "status": "pending"
    },
    "tags": []
   },
   "source": [
    "# Part 2: Loading Dataset for Creating Data Pipeline for Preprocessing\n",
    "\n",
    "### Note: Changing the Datatypes to fascilitate faster loading of the data. The reference for datatypes is: https://www.kaggle.com/competitions/predict-student-performance-from-game-play/discussion/384359"
   ]
  },
  {
   "cell_type": "code",
   "execution_count": null,
   "id": "a8593108",
   "metadata": {
    "execution": {
     "iopub.execute_input": "2024-03-28T14:02:43.725218Z",
     "iopub.status.busy": "2024-03-28T14:02:43.724938Z",
     "iopub.status.idle": "2024-03-28T14:04:11.203814Z",
     "shell.execute_reply": "2024-03-28T14:04:11.202872Z",
     "shell.execute_reply.started": "2024-03-28T14:02:43.725188Z"
    },
    "papermill": {
     "duration": null,
     "end_time": null,
     "exception": null,
     "start_time": null,
     "status": "pending"
    },
    "tags": []
   },
   "outputs": [],
   "source": [
    "# Reference: https://www.kaggle.com/competitions/predict-student-performance-from-game-play/discussion/384359\n",
    "dtypes={\n",
    "    'elapsed_time':np.int32,\n",
    "    'event_name':'category',\n",
    "    'name':'category',\n",
    "    'level':np.uint8,\n",
    "    'room_coor_x':np.float32,\n",
    "    'room_coor_y':np.float32,\n",
    "    'screen_coor_x':np.float32,\n",
    "    'screen_coor_y':np.float32,\n",
    "    'hover_duration':np.float32,\n",
    "    'text':'category',\n",
    "    'fqid':'category',\n",
    "    'room_fqid':'category',\n",
    "    'text_fqid':'category',\n",
    "    'fullscreen':'category',\n",
    "    'hq':'category',\n",
    "    'music':'category',\n",
    "    'level_group':'category'}\n",
    "\n",
    "dataset_df = pd.read_csv('/kaggle/input/predict-student-performance-from-game-play/train.csv', dtype=dtypes)\n",
    "print(\"Full train dataset shape is {}\".format(dataset_df.shape))"
   ]
  },
  {
   "cell_type": "markdown",
   "id": "5ea68725",
   "metadata": {
    "papermill": {
     "duration": null,
     "end_time": null,
     "exception": null,
     "start_time": null,
     "status": "pending"
    },
    "tags": []
   },
   "source": [
    "#### Loading Labels: Please note that Labels have Question Number appended with Session ID. "
   ]
  },
  {
   "cell_type": "code",
   "execution_count": null,
   "id": "0e0af909",
   "metadata": {
    "execution": {
     "iopub.execute_input": "2024-03-28T14:04:11.205323Z",
     "iopub.status.busy": "2024-03-28T14:04:11.20503Z",
     "iopub.status.idle": "2024-03-28T14:04:12.359038Z",
     "shell.execute_reply": "2024-03-28T14:04:12.357997Z",
     "shell.execute_reply.started": "2024-03-28T14:04:11.205276Z"
    },
    "papermill": {
     "duration": null,
     "end_time": null,
     "exception": null,
     "start_time": null,
     "status": "pending"
    },
    "tags": []
   },
   "outputs": [],
   "source": [
    "labels = pd.read_csv('/kaggle/input/predict-student-performance-from-game-play/train_labels.csv')\n",
    "labels['session'] = labels.session_id.apply(lambda x: int(x.split('_')[0]) )\n",
    "labels['q'] = labels.session_id.apply(lambda x: int(x.split('_')[-1][1:]) )"
   ]
  },
  {
   "cell_type": "markdown",
   "id": "46ee91ef",
   "metadata": {
    "papermill": {
     "duration": null,
     "end_time": null,
     "exception": null,
     "start_time": null,
     "status": "pending"
    },
    "tags": []
   },
   "source": [
    "## Step 1: Preprocessing the Data as per the Kaggle Discussion Forums\n",
    "\n",
    "#### The reference for preprocessing is the below description from the Competition Abstract\n",
    "<br>\n",
    "To preprocess the data according to the information provided in the Kaggle discussion forums and the competition abstract, we need to group our dataset based on the level groups. The association between level groups and questions is as follows:\n",
    "\n",
    "1.Questions 1 to 3 correspond to level group 0-4.\n",
    "\n",
    "2.Questions 4 to 13 correspond to level group 5-12.\n",
    "\n",
    "3.Questions 14 to 18 correspond to level group 13-22.\n",
    "\n",
    "Therefore, we'll need to split our dataset into these three groups based on the level group each question belongs to.\n",
    "\n",
    "Here's how we can proceed with preprocessing the data:\n",
    "\n",
    "Group the dataset based on the level groups specified above.\n",
    "Access the data for each question group and further process it as needed."
   ]
  },
  {
   "cell_type": "code",
   "execution_count": null,
   "id": "c4a64a94",
   "metadata": {
    "execution": {
     "iopub.execute_input": "2024-03-28T14:04:12.360443Z",
     "iopub.status.busy": "2024-03-28T14:04:12.360131Z",
     "iopub.status.idle": "2024-03-28T14:04:12.365172Z",
     "shell.execute_reply": "2024-03-28T14:04:12.364339Z",
     "shell.execute_reply.started": "2024-03-28T14:04:12.360417Z"
    },
    "papermill": {
     "duration": null,
     "end_time": null,
     "exception": null,
     "start_time": null,
     "status": "pending"
    },
    "tags": []
   },
   "outputs": [],
   "source": [
    "# Categorizing Features on the Type\n",
    "CATEGORICAL = ['event_name', 'name','fqid', 'room_fqid', 'text_fqid']\n",
    "NUMERICAL = ['elapsed_time','level','page','room_coor_x', 'room_coor_y', \n",
    "        'screen_coor_x', 'screen_coor_y', 'hover_duration']"
   ]
  },
  {
   "cell_type": "code",
   "execution_count": null,
   "id": "b44b40c7",
   "metadata": {
    "execution": {
     "iopub.execute_input": "2024-03-28T14:04:12.366578Z",
     "iopub.status.busy": "2024-03-28T14:04:12.366254Z",
     "iopub.status.idle": "2024-03-28T14:04:12.377245Z",
     "shell.execute_reply": "2024-03-28T14:04:12.376451Z",
     "shell.execute_reply.started": "2024-03-28T14:04:12.366545Z"
    },
    "papermill": {
     "duration": null,
     "end_time": null,
     "exception": null,
     "start_time": null,
     "status": "pending"
    },
    "tags": []
   },
   "outputs": [],
   "source": [
    "# Reference: https://www.kaggle.com/code/cdeotte/random-forest-baseline-0-664/notebook\n",
    "\n",
    "def feature_engineer(dataset_df):\n",
    "    dfs = []\n",
    "    for c in CATEGORICAL:\n",
    "        tmp = dataset_df.groupby(['session_id','level_group'])[c].agg('nunique')\n",
    "        tmp.name = tmp.name + '_nunique'\n",
    "        dfs.append(tmp)\n",
    "    for c in NUMERICAL:\n",
    "        tmp = dataset_df.groupby(['session_id','level_group'])[c].agg('mean')\n",
    "        dfs.append(tmp)\n",
    "    for c in NUMERICAL:\n",
    "        tmp = dataset_df.groupby(['session_id','level_group'])[c].agg('std')\n",
    "        tmp.name = tmp.name + '_std'\n",
    "        dfs.append(tmp)\n",
    "    dataset_df = pd.concat(dfs,axis=1)\n",
    "    dataset_df = dataset_df.fillna(-1)\n",
    "    dataset_df = dataset_df.reset_index()\n",
    "    dataset_df = dataset_df.set_index('session_id')\n",
    "    return dataset_df"
   ]
  },
  {
   "cell_type": "markdown",
   "id": "7f429e02",
   "metadata": {
    "papermill": {
     "duration": null,
     "end_time": null,
     "exception": null,
     "start_time": null,
     "status": "pending"
    },
    "tags": []
   },
   "source": [
    "#### Pre-Processing whole Dataset at Once to avoid any Data Errors while Training and Testing"
   ]
  },
  {
   "cell_type": "code",
   "execution_count": null,
   "id": "f32a895d",
   "metadata": {
    "execution": {
     "iopub.execute_input": "2024-03-28T14:04:12.378559Z",
     "iopub.status.busy": "2024-03-28T14:04:12.378276Z",
     "iopub.status.idle": "2024-03-28T14:04:36.561237Z",
     "shell.execute_reply": "2024-03-28T14:04:36.560257Z",
     "shell.execute_reply.started": "2024-03-28T14:04:12.378536Z"
    },
    "papermill": {
     "duration": null,
     "end_time": null,
     "exception": null,
     "start_time": null,
     "status": "pending"
    },
    "tags": []
   },
   "outputs": [],
   "source": [
    "dataset_df = feature_engineer(dataset_df)\n",
    "print(\"Dataset shape is {}\".format(dataset_df.shape))"
   ]
  },
  {
   "cell_type": "markdown",
   "id": "44566531",
   "metadata": {
    "papermill": {
     "duration": null,
     "end_time": null,
     "exception": null,
     "start_time": null,
     "status": "pending"
    },
    "tags": []
   },
   "source": [
    "#### Plotting the division of Correct and Incorrect answers at Question Level"
   ]
  },
  {
   "cell_type": "code",
   "execution_count": null,
   "id": "143169e8",
   "metadata": {
    "execution": {
     "iopub.execute_input": "2024-03-28T14:04:36.564455Z",
     "iopub.status.busy": "2024-03-28T14:04:36.56256Z",
     "iopub.status.idle": "2024-03-28T14:04:38.143061Z",
     "shell.execute_reply": "2024-03-28T14:04:38.142105Z",
     "shell.execute_reply.started": "2024-03-28T14:04:36.564426Z"
    },
    "papermill": {
     "duration": null,
     "end_time": null,
     "exception": null,
     "start_time": null,
     "status": "pending"
    },
    "tags": []
   },
   "outputs": [],
   "source": [
    "import plotly.express as px\n",
    "\n",
    "# Assuming you have already imported 'labels' DataFrame and have performed necessary operations\n",
    "\n",
    "# Group the data\n",
    "grouped_data = labels.groupby(['q', 'correct']).size().unstack(fill_value=0)\n",
    "\n",
    "# Reset the index to ensure 'q' and 'correct' become columns\n",
    "grouped_data = grouped_data.reset_index()\n",
    "\n",
    "# Rename the columns to match the expected names in the Plotly code\n",
    "grouped_data = grouped_data.rename(columns={False: 'Incorrect', True: 'Correct'})\n",
    "\n",
    "# Melt the DataFrame to create a tidy format for Plotly\n",
    "grouped_data_melted = grouped_data.melt(id_vars=['q'], value_vars=['Correct', 'Incorrect'], var_name='Correctness', value_name='Count')\n",
    "\n",
    "# Plot the data as a grouped bar chart using Plotly Express\n",
    "fig = px.bar(grouped_data_melted, x='q', y='Count', color='Correctness', barmode='group',\n",
    "             labels={'q': 'Question', 'Count': 'Count', 'Correctness': 'Correctness'},\n",
    "             title='Number of Correct and Incorrect Answers by Question')\n",
    "\n",
    "# Show the plot\n",
    "fig.show()\n"
   ]
  },
  {
   "cell_type": "markdown",
   "id": "abcad7ec",
   "metadata": {
    "papermill": {
     "duration": null,
     "end_time": null,
     "exception": null,
     "start_time": null,
     "status": "pending"
    },
    "tags": []
   },
   "source": [
    "## Step 2: Splitting Data into Training, Validation, and Testing"
   ]
  },
  {
   "cell_type": "markdown",
   "id": "86e1ecf8",
   "metadata": {
    "papermill": {
     "duration": null,
     "end_time": null,
     "exception": null,
     "start_time": null,
     "status": "pending"
    },
    "tags": []
   },
   "source": [
    "#### We are first dividing Data into Training and Testing, where 80% is Training and 20% is Testing. Then we are using Training Data to again Split it into Validation Data with same Ratio"
   ]
  },
  {
   "cell_type": "code",
   "execution_count": null,
   "id": "22928c07",
   "metadata": {
    "execution": {
     "iopub.execute_input": "2024-03-28T14:04:38.14436Z",
     "iopub.status.busy": "2024-03-28T14:04:38.14409Z",
     "iopub.status.idle": "2024-03-28T14:04:38.235466Z",
     "shell.execute_reply": "2024-03-28T14:04:38.234569Z",
     "shell.execute_reply.started": "2024-03-28T14:04:38.144337Z"
    },
    "papermill": {
     "duration": null,
     "end_time": null,
     "exception": null,
     "start_time": null,
     "status": "pending"
    },
    "tags": []
   },
   "outputs": [],
   "source": [
    "# Splitting DataSet into Train and Valid\n",
    "def split_dataset(dataset, test_ratio=0.20):\n",
    "    USER_LIST = dataset.index.unique()\n",
    "    split = int(len(USER_LIST) * (1 - 0.20))\n",
    "    return dataset.loc[USER_LIST[:split]], dataset.loc[USER_LIST[split:]]\n",
    "\n",
    "# Generating Split DataSet\n",
    "train_x, test_x = split_dataset(dataset_df)\n",
    "print(\"{} examples in training, {} examples in validation.\".format(\n",
    "    len(train_x), len(test_x)))"
   ]
  },
  {
   "cell_type": "code",
   "execution_count": null,
   "id": "f9de72e4",
   "metadata": {
    "execution": {
     "iopub.execute_input": "2024-03-28T14:04:38.236744Z",
     "iopub.status.busy": "2024-03-28T14:04:38.23647Z",
     "iopub.status.idle": "2024-03-28T14:04:38.307579Z",
     "shell.execute_reply": "2024-03-28T14:04:38.306635Z",
     "shell.execute_reply.started": "2024-03-28T14:04:38.23672Z"
    },
    "papermill": {
     "duration": null,
     "end_time": null,
     "exception": null,
     "start_time": null,
     "status": "pending"
    },
    "tags": []
   },
   "outputs": [],
   "source": [
    "# Splitting the Data into Train and Test\n",
    "train_x, valid_x = split_dataset(train_x)\n",
    "print(\"{} examples in training, {} examples in testing.\".format(\n",
    "    len(train_x), len(valid_x)))"
   ]
  },
  {
   "cell_type": "markdown",
   "id": "5bd79664",
   "metadata": {
    "papermill": {
     "duration": null,
     "end_time": null,
     "exception": null,
     "start_time": null,
     "status": "pending"
    },
    "tags": []
   },
   "source": [
    "## Step 3: Creating an input pipeline as per techniques mentioned in W5.\n",
    "\n",
    "#### We need to train 18 Models for 18 Questions. So we will be generating pipeline for dataset of each Question. "
   ]
  },
  {
   "cell_type": "code",
   "execution_count": null,
   "id": "5c2b48c4",
   "metadata": {
    "execution": {
     "iopub.execute_input": "2024-03-28T14:04:38.309192Z",
     "iopub.status.busy": "2024-03-28T14:04:38.308828Z",
     "iopub.status.idle": "2024-03-28T14:04:38.317861Z",
     "shell.execute_reply": "2024-03-28T14:04:38.316952Z",
     "shell.execute_reply.started": "2024-03-28T14:04:38.309159Z"
    },
    "papermill": {
     "duration": null,
     "end_time": null,
     "exception": null,
     "start_time": null,
     "status": "pending"
    },
    "tags": []
   },
   "outputs": [],
   "source": [
    "# Function to Split DataSet into Parts\n",
    "def save_to_multiple_csv_files(data, name_prefix, question, header=None, n_parts=5):\n",
    "    # Setting the Directory\n",
    "    # Creating Directory for Each Question\n",
    "    game_prediction_dir = os.path.join(\"/kaggle/working/datasets_\"+str(question), \"student_performance_data\")\n",
    "    os.makedirs(game_prediction_dir, exist_ok=True)\n",
    "    path_format = os.path.join(game_prediction_dir, \"my_{}_{:02d}.csv\")\n",
    "\n",
    "    filepaths = []\n",
    "    m = len(data)\n",
    "    for file_idx, row_indices in enumerate(np.array_split(np.arange(m), n_parts)):\n",
    "        part_csv = path_format.format(name_prefix, file_idx)\n",
    "        filepaths.append(part_csv)\n",
    "        with open(part_csv, \"wt\", encoding=\"utf-8\") as f:\n",
    "            if header is not None:\n",
    "                f.write(header)\n",
    "                f.write(\"\\n\")\n",
    "            for row_idx in row_indices:\n",
    "                f.write(\",\".join([repr(col) for col in data[row_idx]]))\n",
    "                f.write(\"\\n\")\n",
    "    return filepaths"
   ]
  },
  {
   "cell_type": "code",
   "execution_count": null,
   "id": "cc83edc2",
   "metadata": {
    "execution": {
     "iopub.execute_input": "2024-03-28T14:04:38.31975Z",
     "iopub.status.busy": "2024-03-28T14:04:38.3194Z",
     "iopub.status.idle": "2024-03-28T14:04:46.896883Z",
     "shell.execute_reply": "2024-03-28T14:04:46.895803Z",
     "shell.execute_reply.started": "2024-03-28T14:04:38.319718Z"
    },
    "papermill": {
     "duration": null,
     "end_time": null,
     "exception": null,
     "start_time": null,
     "status": "pending"
    },
    "tags": []
   },
   "outputs": [],
   "source": [
    "# Generating CSV files for Each Question and Saving them\n",
    "train_file_paths_for_questions = []\n",
    "valid_file_paths_for_questions = []\n",
    "test_file_paths_for_questions = []\n",
    "\n",
    "header_cols = train_x.columns\n",
    "header = \",\".join(header_cols)\n",
    "\n",
    "for q_no in range(1,19):\n",
    "    \n",
    "    # Selecting the Group based on Question Number\n",
    "    if q_no<=3: grp = '0-4'\n",
    "    elif q_no<=13: grp = '5-12'\n",
    "    elif q_no<=22: grp = '13-22'\n",
    "    print(\"##### Generating CSV for quetion_number\", q_no, \"group\", grp)\n",
    "    \n",
    "    # Filter the rows in the datasets based on the selected level group. \n",
    "    train_df = train_x.loc[train_x.level_group == grp]\n",
    "    train_users = train_df.index.values\n",
    "    valid_df = valid_x.loc[valid_x.level_group == grp]\n",
    "    valid_users = valid_df.index.values\n",
    "    test_df = test_x.loc[test_x.level_group == grp]\n",
    "    test_users = test_df.index.values\n",
    "    \n",
    "    # Select the labels for the related q_no.\n",
    "    train_labels = labels.loc[labels.q==q_no].set_index('session').loc[train_users]\n",
    "    valid_labels = labels.loc[labels.q==q_no].set_index('session').loc[valid_users]\n",
    "    test_labels = labels.loc[labels.q==q_no].set_index('session').loc[test_users]\n",
    "    \n",
    "     # Add the label to the filtered datasets.\n",
    "    train_df[\"correct\"] = train_labels[\"correct\"]\n",
    "    valid_df[\"correct\"] = valid_labels[\"correct\"]\n",
    "    test_df[\"correct\"] = test_labels[\"correct\"]\n",
    "    \n",
    "    # Dropping Column Level Group\n",
    "    train_ds_data = train_df.drop(columns=['level_group'])\n",
    "    valid_ds_data = valid_df.drop(columns=['level_group'])\n",
    "    test_ds_data = test_df.drop(columns=['level_group'])\n",
    "    train_ds_data.reset_index()\n",
    "    valid_ds_data.reset_index()\n",
    "    test_ds_data.reset_index()\n",
    "    \n",
    "    # Calling function to generate CSVs\n",
    "    train_filepaths = save_to_multiple_csv_files(train_ds_data.to_numpy(), \"train\", \"q_no_\"+str(q_no), header, n_parts=5)\n",
    "    valid_filepaths = save_to_multiple_csv_files(valid_ds_data.to_numpy(), \"valid\", \"q_no_\"+str(q_no), header, n_parts=5)\n",
    "    test_filepaths = save_to_multiple_csv_files(test_ds_data.to_numpy(), \"test\", \"q_no_\"+str(q_no), header, n_parts=5)\n",
    "    \n",
    "    # Saving File Paths\n",
    "    train_file_paths_for_questions.append(train_filepaths)\n",
    "    valid_file_paths_for_questions.append(valid_filepaths)\n",
    "    test_file_paths_for_questions.append(test_filepaths)"
   ]
  },
  {
   "cell_type": "code",
   "execution_count": null,
   "id": "fa2ecec1",
   "metadata": {
    "execution": {
     "iopub.execute_input": "2024-03-28T14:04:46.898753Z",
     "iopub.status.busy": "2024-03-28T14:04:46.898335Z",
     "iopub.status.idle": "2024-03-28T14:04:46.904483Z",
     "shell.execute_reply": "2024-03-28T14:04:46.90356Z",
     "shell.execute_reply.started": "2024-03-28T14:04:46.898711Z"
    },
    "papermill": {
     "duration": null,
     "end_time": null,
     "exception": null,
     "start_time": null,
     "status": "pending"
    },
    "tags": []
   },
   "outputs": [],
   "source": [
    "# Pre Process Function\n",
    "n_inputs = 21\n",
    "def preprocess(line):\n",
    "\n",
    "    defs = [0.] * n_inputs + [tf.constant([], dtype=tf.float32)]\n",
    "\n",
    "    fields = tf.io.decode_csv(line, record_defaults=defs)\n",
    "    X = tf.stack(fields[:-1])\n",
    "    y = tf.stack(fields[-1:])\n",
    "    return X, y"
   ]
  },
  {
   "cell_type": "code",
   "execution_count": null,
   "id": "e23eeeb7",
   "metadata": {
    "execution": {
     "iopub.execute_input": "2024-03-28T14:04:46.905903Z",
     "iopub.status.busy": "2024-03-28T14:04:46.90564Z",
     "iopub.status.idle": "2024-03-28T14:04:46.918543Z",
     "shell.execute_reply": "2024-03-28T14:04:46.917622Z",
     "shell.execute_reply.started": "2024-03-28T14:04:46.90588Z"
    },
    "papermill": {
     "duration": null,
     "end_time": null,
     "exception": null,
     "start_time": null,
     "status": "pending"
    },
    "tags": []
   },
   "outputs": [],
   "source": [
    "# CSV Reader for Train\n",
    "def csv_reader_dataset(filepaths, repeat=1, n_readers=5,  # number of files or filepaths\n",
    "                       n_read_threads=None, shuffle_buffer_size=10000,\n",
    "                       n_parse_threads=5, batch_size=32):\n",
    "    \n",
    "    dataset = tf.data.Dataset.list_files(filepaths).repeat(repeat)\n",
    "    \n",
    "    \n",
    "    \n",
    "    dataset = dataset.interleave(\n",
    "        lambda filepath: tf.data.TextLineDataset(filepath).skip(1), # skip the header row via map_func\n",
    "        cycle_length=n_readers, # 'interleave' pull cycle_length(=n_readers) file paths(1 by 1) from the 'dataset'\n",
    "        num_parallel_calls=n_read_threads) \n",
    "    dataset = dataset.shuffle(shuffle_buffer_size)\n",
    "    dataset = dataset.map(preprocess, num_parallel_calls=n_parse_threads)\n",
    "    dataset = dataset.batch(batch_size)\n",
    "    \n",
    "    return dataset.prefetch(1)"
   ]
  },
  {
   "cell_type": "code",
   "execution_count": null,
   "id": "572543c1",
   "metadata": {
    "execution": {
     "iopub.execute_input": "2024-03-28T14:04:46.919984Z",
     "iopub.status.busy": "2024-03-28T14:04:46.919713Z",
     "iopub.status.idle": "2024-03-28T14:04:52.115522Z",
     "shell.execute_reply": "2024-03-28T14:04:52.114482Z",
     "shell.execute_reply.started": "2024-03-28T14:04:46.919961Z"
    },
    "papermill": {
     "duration": null,
     "end_time": null,
     "exception": null,
     "start_time": null,
     "status": "pending"
    },
    "tags": []
   },
   "outputs": [],
   "source": [
    "# Using the Saved CSV Loading the Data and saving them to a List\n",
    "train_set_list = []\n",
    "valid_set_list = []\n",
    "test_set_list = []\n",
    "\n",
    "\n",
    "for q_no in range(1,19):\n",
    "\n",
    "    # Select level group for the question based on the q_no.\n",
    "    if q_no<=3: grp = '0-4'\n",
    "    elif q_no<=13: grp = '5-12'\n",
    "    elif q_no<=22: grp = '13-22'\n",
    "    print(\"##### Loading CSV for quetion_number\", q_no, \"group\", grp)\n",
    "    \n",
    "    train_set = csv_reader_dataset(train_file_paths_for_questions[q_no - 1])\n",
    "    valid_set = csv_reader_dataset(valid_file_paths_for_questions[q_no - 1]) \n",
    "    test_set = csv_reader_dataset(test_file_paths_for_questions[q_no - 1])   \n",
    "    \n",
    "    train_set_list.append(train_set)\n",
    "    valid_set_list.append(valid_set)\n",
    "    test_set_list.append(test_set)"
   ]
  },
  {
   "cell_type": "markdown",
   "id": "70156fc0",
   "metadata": {
    "papermill": {
     "duration": null,
     "end_time": null,
     "exception": null,
     "start_time": null,
     "status": "pending"
    },
    "tags": []
   },
   "source": [
    "# Extras: Functions for Generating Graphs"
   ]
  },
  {
   "cell_type": "code",
   "execution_count": null,
   "id": "b006b90d",
   "metadata": {
    "execution": {
     "iopub.execute_input": "2024-03-28T14:04:52.118597Z",
     "iopub.status.busy": "2024-03-28T14:04:52.116843Z",
     "iopub.status.idle": "2024-03-28T14:04:52.126609Z",
     "shell.execute_reply": "2024-03-28T14:04:52.125535Z",
     "shell.execute_reply.started": "2024-03-28T14:04:52.118564Z"
    },
    "papermill": {
     "duration": null,
     "end_time": null,
     "exception": null,
     "start_time": null,
     "status": "pending"
    },
    "tags": []
   },
   "outputs": [],
   "source": [
    "import matplotlib.pyplot as plt\n",
    "import pandas as pd\n",
    "\n",
    "def plotGridGraphs(history_models_list):\n",
    "    # Loss and Accuracy Update Plots\n",
    "    # create a 3x6 grid of plots\n",
    "    fig, axes = plt.subplots(nrows=6, ncols=3, figsize=(30, 30))\n",
    "\n",
    "    # loop over each plot and generate the learning curve for each model\n",
    "    for i, ax in enumerate(axes.flatten()):\n",
    "        if i < len(history_models_list):  # Check if index is within the range of history_models_list\n",
    "            # get the history object for the current model\n",
    "            history = history_models_list[i]\n",
    "\n",
    "            # generate the learning curve for the current model\n",
    "            pd.DataFrame(history.history).plot(ax=ax, figsize=(20, 20))\n",
    "            ax.grid(True)\n",
    "            ax.set_ylim(0, 1)\n",
    "            ax.set_title(f\"Question {i+1}\")\n",
    "        else:\n",
    "            # If there are fewer models than plots, remove empty subplots\n",
    "            fig.delaxes(ax)\n",
    "\n",
    "    fig.subplots_adjust(wspace=0.4, hspace=0.4)\n",
    "    # save and show the plot\n",
    "    # plt.tight_layout()\n",
    "plt.show()\n"
   ]
  },
  {
   "cell_type": "code",
   "execution_count": null,
   "id": "ac7125ab",
   "metadata": {
    "execution": {
     "iopub.execute_input": "2024-03-28T14:04:52.128478Z",
     "iopub.status.busy": "2024-03-28T14:04:52.128103Z",
     "iopub.status.idle": "2024-03-28T14:04:52.143582Z",
     "shell.execute_reply": "2024-03-28T14:04:52.142614Z",
     "shell.execute_reply.started": "2024-03-28T14:04:52.128444Z"
    },
    "papermill": {
     "duration": null,
     "end_time": null,
     "exception": null,
     "start_time": null,
     "status": "pending"
    },
    "tags": []
   },
   "outputs": [],
   "source": [
    "def accuracy_bar_plot(test_loss_and_accuracy_list):\n",
    "    # Accuracy Plot\n",
    "    accuracy_list_dnn_1 = [accuracy[1] for accuracy in test_loss_and_accuracy_list]\n",
    "    loss_list_dnn_1 = [loss[0] for loss in test_loss_and_accuracy_list]\n",
    "    fig, ax = plt.subplots()\n",
    "    ax.bar(range(len(accuracy_list_dnn_1)), accuracy_list_dnn_1)\n",
    "    ax.set_xticks(range(len(accuracy_list_dnn_1)))\n",
    "\n",
    "    ax.set_xticklabels(['Q {}'.format(i) for i in range(1, len(accuracy_list_dnn_1) + 1)], rotation = 90)\n",
    "\n",
    "\n",
    "    ax.set_xlabel('Questions')\n",
    "    ax.set_ylabel('Accuracy')\n",
    "    ax.set_title('Accuracy for each Question')\n",
    "    plt.show()\n",
    "\n",
    "    average_accuracy = np.mean(accuracy_list_dnn_1)\n",
    "    print(\"Average accuracy is: \", average_accuracy*100, \"%\")\n"
   ]
  },
  {
   "cell_type": "code",
   "execution_count": null,
   "id": "194fd3ad",
   "metadata": {
    "execution": {
     "iopub.execute_input": "2024-03-28T14:04:52.144938Z",
     "iopub.status.busy": "2024-03-28T14:04:52.14467Z",
     "iopub.status.idle": "2024-03-28T14:04:52.153699Z",
     "shell.execute_reply": "2024-03-28T14:04:52.152915Z",
     "shell.execute_reply.started": "2024-03-28T14:04:52.144915Z"
    },
    "papermill": {
     "duration": null,
     "end_time": null,
     "exception": null,
     "start_time": null,
     "status": "pending"
    },
    "tags": []
   },
   "outputs": [],
   "source": [
    "def f1_score_bar_plot(f1_score_list):\n",
    "    # F1 Score Plot\n",
    "    fig, ax = plt.subplots()\n",
    "    ax.bar(range(len(f1_score_list)), f1_score_list, color=(0.2, 0.4, 0.6, 0.6))\n",
    "    ax.set_xticks(range(len(f1_score_list)))\n",
    "\n",
    "    ax.set_xticklabels(['Q {}'.format(i) for i in range(1, len(f1_score_list) + 1)], rotation = 90)\n",
    "\n",
    "\n",
    "    ax.set_xlabel('Questions')\n",
    "    ax.set_ylabel('F1 Score')\n",
    "    ax.set_title('F1 Score for each Question')\n",
    "    plt.show()\n",
    "\n",
    "    average_f1_score = np.mean(f1_score_list)\n",
    "    print(\"Average F1 Score is: \", average_f1_score*100)"
   ]
  },
  {
   "cell_type": "markdown",
   "id": "29b3f663",
   "metadata": {
    "papermill": {
     "duration": null,
     "end_time": null,
     "exception": null,
     "start_time": null,
     "status": "pending"
    },
    "tags": []
   },
   "source": [
    "# Part 3: Deep Networks Model Training and Testing"
   ]
  },
  {
   "cell_type": "markdown",
   "id": "67f6a0cd",
   "metadata": {
    "papermill": {
     "duration": null,
     "end_time": null,
     "exception": null,
     "start_time": null,
     "status": "pending"
    },
    "tags": []
   },
   "source": [
    "## Step 1: Using W2 to create a Deep Neural Network with 1 I/P Layer, 1 O/P Layer, and 3 Hidden Layers, without any Normalization or Drop Outs. \n",
    "### Note: Keeping Epochs as 20 for all the Questions with an Early Stop with patience of 7"
   ]
  },
  {
   "cell_type": "code",
   "execution_count": null,
   "id": "c06fb2b3",
   "metadata": {
    "execution": {
     "iopub.execute_input": "2024-03-28T14:04:52.155209Z",
     "iopub.status.busy": "2024-03-28T14:04:52.154939Z",
     "iopub.status.idle": "2024-03-28T14:07:21.927765Z",
     "shell.execute_reply": "2024-03-28T14:07:21.926786Z",
     "shell.execute_reply.started": "2024-03-28T14:04:52.155186Z"
    },
    "papermill": {
     "duration": null,
     "end_time": null,
     "exception": null,
     "start_time": null,
     "status": "pending"
    },
    "tags": []
   },
   "outputs": [],
   "source": [
    "# Training Models for Each Question\n",
    "test_loss_and_accuracy_list = []\n",
    "history_models = []\n",
    "models = {}\n",
    "f1_score_list = []\n",
    "\n",
    "for q_no in range(1,19):\n",
    "\n",
    "    # Select level group for the question based on the q_no.\n",
    "    if q_no<=3: grp = '0-4'\n",
    "    elif q_no<=13: grp = '5-12'\n",
    "    elif q_no<=22: grp = '13-22'\n",
    "    print(\"##### Training for quetion_number\", q_no, \"group\", grp)\n",
    "    \n",
    "    train_set = train_set_list[q_no - 1]\n",
    "    valid_set = valid_set_list[q_no - 1]\n",
    "    test_set = test_set_list[q_no - 1]\n",
    "    \n",
    "    model = keras.models.Sequential([\n",
    "        keras.layers.Dense(400, activation='relu', input_shape=(21,)),\n",
    "        keras.layers.Dense(200, activation='relu'),\n",
    "        keras.layers.Dense(100, activation='relu'),\n",
    "        keras.layers.Dense(50, activation='relu'),\n",
    "        keras.layers.Dense(1, activation=\"sigmoid\")\n",
    "    ])\n",
    "\n",
    "    model.compile(loss='binary_crossentropy', optimizer='adam', metrics=['accuracy'])\n",
    "    early_stopping = EarlyStopping(monitor='val_accuracy', mode='max', patience=7,  restore_best_weights=True)\n",
    "    history = model.fit(train_set, epochs=3, validation_data=(valid_set), callbacks=[early_stopping])\n",
    "    \n",
    "    # Store the model\n",
    "    models[f'{grp}_{q_no}'] = model    \n",
    "    \n",
    "    # Saving Accuracies\n",
    "    results = model.evaluate(test_set)\n",
    "    test_loss_and_accuracy_list.append(results)\n",
    "    \n",
    "    # Saving History of Models\n",
    "    history_models.append(history)\n",
    "    \n",
    "    # F1 Score\n",
    "    y_true_numpy_list = []\n",
    "    \n",
    "    predictions = model.predict(test_set, verbose=0)\n",
    "    predictions = predictions.round().astype(int).flatten()\n",
    "    \n",
    "    for x_batch, y_batch in test_set:\n",
    "    \n",
    "        y_batch = y_batch.numpy()\n",
    "        y_batch = y_batch.round().astype(int).flatten()\n",
    "\n",
    "        y_true_numpy_list.append(y_batch)\n",
    "        \n",
    "    y_true_numpy = np.concatenate(y_true_numpy_list)\n",
    "    f1_score_list.append(f1_score(y_true_numpy, predictions))"
   ]
  },
  {
   "cell_type": "markdown",
   "id": "984b19dd",
   "metadata": {
    "papermill": {
     "duration": null,
     "end_time": null,
     "exception": null,
     "start_time": null,
     "status": "pending"
    },
    "tags": []
   },
   "source": []
  },
  {
   "cell_type": "code",
   "execution_count": null,
   "id": "a8dc99dc",
   "metadata": {
    "execution": {
     "iopub.execute_input": "2024-03-28T14:07:21.929214Z",
     "iopub.status.busy": "2024-03-28T14:07:21.928933Z",
     "iopub.status.idle": "2024-03-28T14:07:28.040121Z",
     "shell.execute_reply": "2024-03-28T14:07:28.038729Z",
     "shell.execute_reply.started": "2024-03-28T14:07:21.929191Z"
    },
    "papermill": {
     "duration": null,
     "end_time": null,
     "exception": null,
     "start_time": null,
     "status": "pending"
    },
    "tags": []
   },
   "outputs": [],
   "source": [
    "plotGridGraphs(history_models)\n",
    "accuracy_bar_plot(test_loss_and_accuracy_list, title=\"Accuracy of Models\")\n",
    "f1_score_bar_plot(f1_score_list, title=\"F1 Score of Models\")\n"
   ]
  },
  {
   "cell_type": "code",
   "execution_count": null,
   "id": "15f48f3a",
   "metadata": {
    "papermill": {
     "duration": null,
     "end_time": null,
     "exception": null,
     "start_time": null,
     "status": "pending"
    },
    "tags": []
   },
   "outputs": [],
   "source": []
  },
  {
   "cell_type": "markdown",
   "id": "0cfee8fa",
   "metadata": {
    "papermill": {
     "duration": null,
     "end_time": null,
     "exception": null,
     "start_time": null,
     "status": "pending"
    },
    "tags": []
   },
   "source": [
    "#### Plotting Learning Curve, Accuracy Comparisons, and F1 Score Comparisons"
   ]
  },
  {
   "cell_type": "markdown",
   "id": "bea01425",
   "metadata": {
    "papermill": {
     "duration": null,
     "end_time": null,
     "exception": null,
     "start_time": null,
     "status": "pending"
    },
    "tags": []
   },
   "source": []
  },
  {
   "cell_type": "code",
   "execution_count": null,
   "id": "72e7ae88",
   "metadata": {
    "execution": {
     "iopub.execute_input": "2024-03-28T14:09:45.225705Z",
     "iopub.status.busy": "2024-03-28T14:09:45.225234Z",
     "iopub.status.idle": "2024-03-28T14:09:49.868795Z",
     "shell.execute_reply": "2024-03-28T14:09:49.867831Z",
     "shell.execute_reply.started": "2024-03-28T14:09:45.225672Z"
    },
    "papermill": {
     "duration": null,
     "end_time": null,
     "exception": null,
     "start_time": null,
     "status": "pending"
    },
    "tags": []
   },
   "outputs": [],
   "source": [
    "plotGridGraphs(history_models)\n",
    "accuracy_bar_plot(test_loss_and_accuracy_list)\n",
    "f1_score_bar_plot(f1_score_list)"
   ]
  },
  {
   "cell_type": "markdown",
   "id": "564859c6",
   "metadata": {
    "papermill": {
     "duration": null,
     "end_time": null,
     "exception": null,
     "start_time": null,
     "status": "pending"
    },
    "tags": []
   },
   "source": [
    "## Step 2: Using W2 to create a Deep Neural Network with 1 I/P Layer, 1 O/P Layer, and 5 Hidden Layers, with Batch Normalization Layer. \n",
    "### Note: Keeping Epochs as 20 for all the Questions with an Early Stop with patience of 7"
   ]
  },
  {
   "cell_type": "code",
   "execution_count": null,
   "id": "418a7c70",
   "metadata": {
    "execution": {
     "iopub.execute_input": "2024-03-28T14:12:59.666733Z",
     "iopub.status.busy": "2024-03-28T14:12:59.666064Z",
     "iopub.status.idle": "2024-03-28T14:13:04.722973Z",
     "shell.execute_reply": "2024-03-28T14:13:04.721652Z",
     "shell.execute_reply.started": "2024-03-28T14:12:59.666694Z"
    },
    "papermill": {
     "duration": null,
     "end_time": null,
     "exception": null,
     "start_time": null,
     "status": "pending"
    },
    "tags": []
   },
   "outputs": [],
   "source": [
    "# Training Models for Each Question\n",
    "test_loss_and_accuracy_list = []\n",
    "history_models = []\n",
    "models = {}\n",
    "f1_score_list = []\n",
    "\n",
    "for q_no in range(1,19):\n",
    "\n",
    "    # Select level group for the question based on the q_no.\n",
    "    if q_no<=3: grp = '0-4'\n",
    "    elif q_no<=13: grp = '5-12'\n",
    "    elif q_no<=22: grp = '13-22'\n",
    "    print(\"##### Training for quetion_number\", q_no, \"group\", grp)\n",
    "    \n",
    "    train_set = train_set_list[q_no - 1]\n",
    "    valid_set = valid_set_list[q_no - 1]\n",
    "    test_set = test_set_list[q_no - 1]\n",
    "    \n",
    "    \n",
    "    model = keras.models.Sequential([\n",
    "        keras.layers.Dense(512, activation='relu', input_shape=(21,)),\n",
    "        keras.layers.BatchNormalization(),\n",
    "        keras.layers.Dense(256, activation='relu'),\n",
    "        keras.layers.BatchNormalization(),\n",
    "        keras.layers.Dense(128, activation='relu'),\n",
    "        keras.layers.BatchNormalization(),\n",
    "        keras.layers.Dense(64, activation='relu'),\n",
    "        keras.layers.BatchNormalization(),\n",
    "        keras.layers.Dense(32, activation='relu'),\n",
    "        keras.layers.BatchNormalization(),\n",
    "        keras.layers.Dense(16, activation='relu'),\n",
    "        keras.layers.BatchNormalization(),\n",
    "        keras.layers.Dense(1, activation=\"sigmoid\")\n",
    "    ])\n",
    "\n",
    "    model.compile(loss='binary_crossentropy', optimizer='adam', metrics=['accuracy'])\n",
    "    early_stopping = EarlyStopping(monitor='val_accuracy', mode='max', patience=7,  restore_best_weights=True)\n",
    "    history = model.fit(train_set, epochs=20, validation_data=(valid_set), callbacks=[early_stopping])\n",
    "    \n",
    "    # Store the model\n",
    "    models[f'{grp}_{q_no}'] = model    \n",
    "    \n",
    "    # Saving Accuracies\n",
    "    results = model.evaluate(test_set)\n",
    "    test_loss_and_accuracy_list.append(results)\n",
    "    \n",
    "    # Saving History of Models\n",
    "    history_models.append(history)\n",
    "    \n",
    "    # F1 Score\n",
    "    y_true_numpy_list = []\n",
    "    \n",
    "    predictions = model.predict(test_set, verbose=0)\n",
    "    predictions = predictions.round().astype(int).flatten()\n",
    "    \n",
    "    for x_batch, y_batch in test_set:\n",
    "    \n",
    "        y_batch = y_batch.numpy()\n",
    "        y_batch = y_batch.round().astype(int).flatten()\n",
    "\n",
    "        y_true_numpy_list.append(y_batch)\n",
    "        \n",
    "    y_true_numpy = np.concatenate(y_true_numpy_list)\n",
    "    f1_score_list.append(f1_score(y_true_numpy, predictions))"
   ]
  },
  {
   "cell_type": "code",
   "execution_count": null,
   "id": "966f3383",
   "metadata": {
    "execution": {
     "iopub.status.busy": "2024-03-28T14:07:28.045365Z",
     "iopub.status.idle": "2024-03-28T14:07:28.045756Z",
     "shell.execute_reply": "2024-03-28T14:07:28.045582Z",
     "shell.execute_reply.started": "2024-03-28T14:07:28.045566Z"
    },
    "papermill": {
     "duration": null,
     "end_time": null,
     "exception": null,
     "start_time": null,
     "status": "pending"
    },
    "tags": []
   },
   "outputs": [],
   "source": [
    "plotGridGraphs(history_models)\n",
    "accuracy_bar_plot(test_loss_and_accuracy_list)\n",
    "f1_score_bar_plot(f1_score_list)"
   ]
  },
  {
   "cell_type": "markdown",
   "id": "ee5ae37d",
   "metadata": {
    "papermill": {
     "duration": null,
     "end_time": null,
     "exception": null,
     "start_time": null,
     "status": "pending"
    },
    "tags": []
   },
   "source": [
    "## Step 3:\n",
    "## 1.Using W2 to create a Deep Neural Network with 1 I/P Layer, 1 O/P Layer, and 5 Hidden Layers, with Batch Normalization Layer and Drop Outs. \n",
    "\n",
    "### Note: Keeping Epochs as 20 for all the Questions with an Early Stop with patience of 7"
   ]
  },
  {
   "cell_type": "code",
   "execution_count": null,
   "id": "4532b1d2",
   "metadata": {
    "execution": {
     "iopub.status.busy": "2024-03-28T14:07:28.047596Z",
     "iopub.status.idle": "2024-03-28T14:07:28.047973Z",
     "shell.execute_reply": "2024-03-28T14:07:28.047803Z",
     "shell.execute_reply.started": "2024-03-28T14:07:28.047787Z"
    },
    "papermill": {
     "duration": null,
     "end_time": null,
     "exception": null,
     "start_time": null,
     "status": "pending"
    },
    "tags": []
   },
   "outputs": [],
   "source": [
    "# Training Models for Each Question\n",
    "test_loss_and_accuracy_list = []\n",
    "history_models = []\n",
    "models = {}\n",
    "f1_score_list = []\n",
    "\n",
    "for q_no in range(1,19):\n",
    "\n",
    "    # Select level group for the question based on the q_no.\n",
    "    if q_no<=3: grp = '0-4'\n",
    "    elif q_no<=13: grp = '5-12'\n",
    "    elif q_no<=22: grp = '13-22'\n",
    "    print(\"##### Training for quetion_number\", q_no, \"group\", grp)\n",
    "    \n",
    "    train_set = train_set_list[q_no - 1]\n",
    "    valid_set = valid_set_list[q_no - 1]\n",
    "    test_set = test_set_list[q_no - 1]\n",
    "    \n",
    "    \n",
    "    model = keras.models.Sequential([\n",
    "        keras.layers.Dense(512, activation='relu', input_shape=(21,)),\n",
    "        keras.layers.BatchNormalization(),\n",
    "        keras.layers.Dense(256, activation='relu'),\n",
    "        keras.layers.BatchNormalization(),\n",
    "        keras.layers.Dropout(0.2),\n",
    "        keras.layers.Dense(128, activation='relu'),\n",
    "        keras.layers.BatchNormalization(),\n",
    "        keras.layers.Dropout(0.2),\n",
    "        keras.layers.Dense(64, activation='relu'),\n",
    "        keras.layers.BatchNormalization(),\n",
    "        keras.layers.Dropout(0.2),\n",
    "        keras.layers.Dense(32, activation='relu'),\n",
    "        keras.layers.BatchNormalization(),\n",
    "        keras.layers.Dropout(0.2),\n",
    "        keras.layers.Dense(16, activation='relu'),\n",
    "        keras.layers.BatchNormalization(),\n",
    "        keras.layers.Dense(1, activation=\"sigmoid\")\n",
    "    ])\n",
    "\n",
    "    model.compile(loss='binary_crossentropy', optimizer='adam', metrics=['accuracy'])\n",
    "    early_stopping = EarlyStopping(monitor='val_accuracy', mode='max', patience=7,  restore_best_weights=True)\n",
    "    history = model.fit(train_set, epochs=20, validation_data=(valid_set), callbacks=[early_stopping])\n",
    "    \n",
    "    # Store the model\n",
    "    models[f'{grp}_{q_no}'] = model    \n",
    "    \n",
    "    # Saving Accuracies\n",
    "    results = model.evaluate(test_set)\n",
    "    test_loss_and_accuracy_list.append(results)\n",
    "    \n",
    "    # Saving History of Models\n",
    "    history_models.append(history)\n",
    "    \n",
    "    # F1 Score\n",
    "    y_true_numpy_list = []\n",
    "    \n",
    "    predictions = model.predict(test_set, verbose=0)\n",
    "    predictions = predictions.round().astype(int).flatten()\n",
    "    \n",
    "    for x_batch, y_batch in test_set:\n",
    "    \n",
    "        y_batch = y_batch.numpy()\n",
    "        y_batch = y_batch.round().astype(int).flatten()\n",
    "\n",
    "        y_true_numpy_list.append(y_batch)\n",
    "        \n",
    "    y_true_numpy = np.concatenate(y_true_numpy_list)\n",
    "    f1_score_list.append(f1_score(y_true_numpy, predictions))"
   ]
  },
  {
   "cell_type": "code",
   "execution_count": null,
   "id": "5639a1e9",
   "metadata": {
    "execution": {
     "iopub.status.busy": "2024-03-28T14:07:28.048883Z",
     "iopub.status.idle": "2024-03-28T14:07:28.049263Z",
     "shell.execute_reply": "2024-03-28T14:07:28.049083Z",
     "shell.execute_reply.started": "2024-03-28T14:07:28.049067Z"
    },
    "papermill": {
     "duration": null,
     "end_time": null,
     "exception": null,
     "start_time": null,
     "status": "pending"
    },
    "tags": []
   },
   "outputs": [],
   "source": [
    "plotGridGraphs(history_models)\n",
    "accuracy_bar_plot(test_loss_and_accuracy_list)\n",
    "f1_score_bar_plot(f1_score_list)"
   ]
  },
  {
   "cell_type": "markdown",
   "id": "3dce8059",
   "metadata": {
    "papermill": {
     "duration": null,
     "end_time": null,
     "exception": null,
     "start_time": null,
     "status": "pending"
    },
    "tags": []
   },
   "source": [
    "## Step 4: Using W2 to create a Deep Neural Network with 1 I/P Layer, 1 O/P Layer, and 5 Hidden Layers, with Batch Normalization Layer and Drop Outs. Using SGD Optimizer\n",
    "\n",
    "### Note: Keeping Epochs as 20 for all the Questions with an Early Stop with patience of 3. We reduced the Patience Since no meaningful increase in accuracy is observed with Epochs"
   ]
  },
  {
   "cell_type": "code",
   "execution_count": null,
   "id": "2155f4e8",
   "metadata": {
    "execution": {
     "iopub.status.busy": "2024-03-28T14:07:28.050664Z",
     "iopub.status.idle": "2024-03-28T14:07:28.051013Z",
     "shell.execute_reply": "2024-03-28T14:07:28.050851Z",
     "shell.execute_reply.started": "2024-03-28T14:07:28.050837Z"
    },
    "papermill": {
     "duration": null,
     "end_time": null,
     "exception": null,
     "start_time": null,
     "status": "pending"
    },
    "tags": []
   },
   "outputs": [],
   "source": [
    "from sklearn.metrics import f1_score\n",
    "from keras.callbacks import EarlyStopping\n",
    "import numpy as np\n",
    "\n",
    "test_loss_and_accuracy_list = []\n",
    "history_models = []\n",
    "models = {}\n",
    "f1_score_list = []\n",
    "\n",
    "# Training Models for Each Question\n",
    "for q_no in range(1, 19):\n",
    "    if q_no <= 3:\n",
    "        grp = '0-4'\n",
    "    elif q_no <= 13:\n",
    "        grp = '5-12'\n",
    "    else:\n",
    "        grp = '13-22'\n",
    "\n",
    "    print(\"##### Training for quetion-number\", q_no, \"group\", grp)\n",
    "    \n",
    "    train_set = train_set_list[q_no - 1]\n",
    "    valid_set = valid_set_list[q_no - 1]\n",
    "    test_set = test_set_list[q_no - 1]\n",
    "    \n",
    "    model = keras.models.Sequential([\n",
    "        keras.layers.Dense(512, activation='relu', input_shape=(21,)),\n",
    "        keras.layers.BatchNormalization(),\n",
    "        keras.layers.Dense(256, activation='relu'),\n",
    "        keras.layers.BatchNormalization(),\n",
    "        keras.layers.Dropout(0.2),\n",
    "        keras.layers.Dense(128, activation='relu'),\n",
    "        keras.layers.BatchNormalization(),\n",
    "        keras.layers.Dropout(0.2),\n",
    "        keras.layers.Dense(64, activation='relu'),\n",
    "        keras.layers.BatchNormalization(),\n",
    "        keras.layers.Dropout(0.2),\n",
    "        keras.layers.Dense(32, activation='relu'),\n",
    "        keras.layers.BatchNormalization(),\n",
    "        keras.layers.Dropout(0.2),\n",
    "        keras.layers.Dense(16, activation='relu'),\n",
    "        keras.layers.BatchNormalization(),\n",
    "        keras.layers.Dense(1, activation=\"sigmoid\")\n",
    "    ])\n",
    "\n",
    "    model.compile(loss='binary_crossentropy', optimizer='sgd', metrics=['accuracy'])\n",
    "    early_stopping = EarlyStopping(monitor='val_accuracy', mode='max', patience=3,  restore_best_weights=True)\n",
    "    history = model.fit(train_set, epochs=20, validation_data=valid_set, callbacks=[early_stopping])\n",
    "    \n",
    "    # Store the model\n",
    "    models[f'{grp}_{q_no}'] = model    \n",
    "    \n",
    "    # Saving Accuracies\n",
    "    results = model.evaluate(test_set)\n",
    "    test_loss_and_accuracy_list.append(results)\n",
    "    \n",
    "    # Saving History of Models\n",
    "    history_models.append(history)\n",
    "    \n",
    "    # F1 Score\n",
    "    y_true_numpy_list = []\n",
    "    predictions = model.predict(test_set, verbose=0)\n",
    "    predictions = predictions.round().astype(int).flatten()\n",
    "    \n",
    "    for x_batch, y_batch in test_set:\n",
    "        y_batch = y_batch.numpy()\n",
    "        y_batch = y_batch.round().astype(int).flatten()\n",
    "        y_true_numpy_list.append(y_batch)\n",
    "        \n",
    "    y_true_numpy = np.concatenate(y_true_numpy_list)\n",
    "    f1_score_list.append(f1_score(y_true_numpy, predictions))\n"
   ]
  },
  {
   "cell_type": "code",
   "execution_count": null,
   "id": "9734ffe7",
   "metadata": {
    "execution": {
     "iopub.status.busy": "2024-03-28T14:07:28.053042Z",
     "iopub.status.idle": "2024-03-28T14:07:28.05344Z",
     "shell.execute_reply": "2024-03-28T14:07:28.053239Z",
     "shell.execute_reply.started": "2024-03-28T14:07:28.053224Z"
    },
    "papermill": {
     "duration": null,
     "end_time": null,
     "exception": null,
     "start_time": null,
     "status": "pending"
    },
    "tags": []
   },
   "outputs": [],
   "source": [
    "plotGridGraphs(history_models)\n",
    "accuracy_bar_plot(test_loss_and_accuracy_list)\n",
    "f1_score_bar_plot(f1_score_list)"
   ]
  },
  {
   "cell_type": "markdown",
   "id": "b657d933",
   "metadata": {
    "papermill": {
     "duration": null,
     "end_time": null,
     "exception": null,
     "start_time": null,
     "status": "pending"
    },
    "tags": []
   },
   "source": [
    "# Part 4: Using W6 for Convolution Neural Networks Model Training and Testing"
   ]
  },
  {
   "cell_type": "code",
   "execution_count": null,
   "id": "755d29c7",
   "metadata": {
    "execution": {
     "iopub.execute_input": "2024-03-28T14:42:58.619729Z",
     "iopub.status.busy": "2024-03-28T14:42:58.619337Z",
     "iopub.status.idle": "2024-03-28T14:46:51.914997Z",
     "shell.execute_reply": "2024-03-28T14:46:51.91412Z",
     "shell.execute_reply.started": "2024-03-28T14:42:58.619692Z"
    },
    "papermill": {
     "duration": null,
     "end_time": null,
     "exception": null,
     "start_time": null,
     "status": "pending"
    },
    "tags": []
   },
   "outputs": [],
   "source": [
    "# Training Models for Each Question\n",
    "test_loss_and_accuracy_list = []\n",
    "history_models = []\n",
    "models = {}\n",
    "f1_score_list = []\n",
    "\n",
    "for q_no in range(1,19):\n",
    "\n",
    "    # Select level group for the question based on the q_no.\n",
    "    if q_no<=3: grp = '0-4'\n",
    "    elif q_no<=13: grp = '5-12'\n",
    "    elif q_no<=22: grp = '13-22'\n",
    "    print(\"##### Training for group-number\", q_no, \"group\", grp)\n",
    "    \n",
    "    train_set = train_set_list[q_no - 1]\n",
    "    valid_set = valid_set_list[q_no - 1]\n",
    "    test_set = test_set_list[q_no - 1]\n",
    "    \n",
    "    \n",
    "    model = keras.models.Sequential([\n",
    "        keras.layers.Conv1D(filters=32, kernel_size=3, input_shape=(21, 1)),\n",
    "        keras.layers.BatchNormalization(),\n",
    "        keras.layers.LeakyReLU(),\n",
    "        keras.layers.MaxPooling1D(pool_size=2),\n",
    "\n",
    "        keras.layers.Conv1D(filters=64, kernel_size=3),\n",
    "        keras.layers.BatchNormalization(),\n",
    "        keras.layers.LeakyReLU(),\n",
    "        keras.layers.MaxPooling1D(pool_size=2),\n",
    "        \n",
    "        keras.layers.Flatten(),\n",
    "        keras.layers.Dense(128, activation='relu'),\n",
    "        keras.layers.Dense(1, activation=\"sigmoid\")\n",
    "    ])\n",
    "\n",
    "    model.compile(loss='binary_crossentropy', optimizer='adam', metrics=['accuracy'])\n",
    "    early_stopping = EarlyStopping(monitor='val_accuracy', mode='max', patience=3,  restore_best_weights=True)\n",
    "    history = model.fit(train_set, epochs=20, validation_data=(valid_set), callbacks=[early_stopping])\n",
    "    \n",
    "    # Store the model\n",
    "    models[f'{grp}_{q_no}'] = model    \n",
    "    \n",
    "    # Saving Accuracies\n",
    "    results = model.evaluate(test_set)\n",
    "    test_loss_and_accuracy_list.append(results)\n",
    "    \n",
    "    # Saving History of Models\n",
    "    history_models.append(history)\n",
    "    \n",
    "    # F1 Score\n",
    "    y_true_numpy_list = []\n",
    "    \n",
    "    predictions = model.predict(test_set, verbose=0)\n",
    "    predictions = predictions.round().astype(int).flatten()\n",
    "    \n",
    "    for x_batch, y_batch in test_set:\n",
    "    \n",
    "        y_batch = y_batch.numpy()\n",
    "        y_batch = y_batch.round().astype(int).flatten()\n",
    "\n",
    "        y_true_numpy_list.append(y_batch)\n",
    "        \n",
    "    y_true_numpy = np.concatenate(y_true_numpy_list)\n",
    "    f1_score_list.append(f1_score(y_true_numpy, predictions))"
   ]
  },
  {
   "cell_type": "code",
   "execution_count": null,
   "id": "d38bb9e6",
   "metadata": {
    "execution": {
     "iopub.execute_input": "2024-03-28T14:50:03.862481Z",
     "iopub.status.busy": "2024-03-28T14:50:03.861718Z",
     "iopub.status.idle": "2024-03-28T14:50:08.900051Z",
     "shell.execute_reply": "2024-03-28T14:50:08.899099Z",
     "shell.execute_reply.started": "2024-03-28T14:50:03.862448Z"
    },
    "papermill": {
     "duration": null,
     "end_time": null,
     "exception": null,
     "start_time": null,
     "status": "pending"
    },
    "tags": []
   },
   "outputs": [],
   "source": [
    "plotGridGraphs(history_models)\n",
    "accuracy_bar_plot(test_loss_and_accuracy_list)\n",
    "f1_score_bar_plot(f1_score_list)"
   ]
  },
  {
   "cell_type": "markdown",
   "id": "2c4ef334",
   "metadata": {
    "papermill": {
     "duration": null,
     "end_time": null,
     "exception": null,
     "start_time": null,
     "status": "pending"
    },
    "tags": []
   },
   "source": [
    "# Part 5: Using W7 LSTM Model Training and Testing"
   ]
  },
  {
   "cell_type": "code",
   "execution_count": null,
   "id": "da0b31d4",
   "metadata": {
    "execution": {
     "iopub.execute_input": "2024-03-28T14:50:16.240679Z",
     "iopub.status.busy": "2024-03-28T14:50:16.23998Z",
     "iopub.status.idle": "2024-03-28T14:50:16.799298Z",
     "shell.execute_reply": "2024-03-28T14:50:16.797829Z",
     "shell.execute_reply.started": "2024-03-28T14:50:16.24064Z"
    },
    "papermill": {
     "duration": null,
     "end_time": null,
     "exception": null,
     "start_time": null,
     "status": "pending"
    },
    "tags": []
   },
   "outputs": [],
   "source": [
    "# Training Models for Each Question\n",
    "test_loss_and_accuracy_list = []\n",
    "history_models = []\n",
    "models = {}\n",
    "f1_score_list = []\n",
    "\n",
    "for q_no in range(1,19):\n",
    "\n",
    "    # Select level group for the question based on the q_no.\n",
    "    if q_no<=3: grp = '0-4'\n",
    "    elif q_no<=13: grp = '5-12'\n",
    "    elif q_no<=22: grp = '13-22'\n",
    "    print(\"##### Training for group-number\", q_no, \"group\", grp)\n",
    "    \n",
    "    train_set = train_set_list[q_no - 1]\n",
    "    valid_set = valid_set_list[q_no - 1]\n",
    "    test_set = test_set_list[q_no - 1]\n",
    "    \n",
    "    \n",
    "    model = keras.models.Sequential([\n",
    "        keras.layers.LSTM(20, return_sequences=True, input_shape=(21, 1)),\n",
    "        keras.layers.LSTM(20, return_sequences=True),\n",
    "        keras.layers.TimeDistributed(keras.layers.Dense(1))\n",
    "    ])\n",
    "\n",
    "    model.compile(loss='binary_crossentropy', optimizer='adam', metrics=['accuracy'])\n",
    "    early_stopping = EarlyStopping(monitor='val_accuracy', mode='max', patience=3,  restore_best_weights=True)\n",
    "    history = model.fit(train_set, epochs=20, validation_data=(valid_set), callbacks=[early_stopping])\n",
    "    \n",
    "    # Store the model\n",
    "    models[f'{grp}_{q_no}'] = model    \n",
    "    \n",
    "    # Saving Accuracies\n",
    "    results = model.evaluate(test_set)\n",
    "    test_loss_and_accuracy_list.append(results)\n",
    "    \n",
    "    # Saving History of Models\n",
    "    history_models.append(history)\n",
    "    \n",
    "    # F1 Score\n",
    "    y_true_numpy_list = []\n",
    "    \n",
    "    predictions = model.predict(test_set, verbose=0)[:, -1][..., np.newaxis]\n",
    "    predictions = predictions.round().astype(int).flatten()\n",
    "    \n",
    "    for x_batch, y_batch in test_set:\n",
    "    \n",
    "        y_batch = y_batch.numpy()\n",
    "        y_batch = y_batch.round().astype(int).flatten()\n",
    "\n",
    "        y_true_numpy_list.append(y_batch)\n",
    "        \n",
    "    y_true_numpy = np.concatenate(y_true_numpy_list)\n",
    "    f1_score_list.append(f1_score(y_true_numpy, predictions, average='weighted'))"
   ]
  },
  {
   "cell_type": "code",
   "execution_count": null,
   "id": "01822607",
   "metadata": {
    "execution": {
     "iopub.status.busy": "2024-03-28T14:07:28.059495Z",
     "iopub.status.idle": "2024-03-28T14:07:28.059837Z",
     "shell.execute_reply": "2024-03-28T14:07:28.059679Z",
     "shell.execute_reply.started": "2024-03-28T14:07:28.059665Z"
    },
    "papermill": {
     "duration": null,
     "end_time": null,
     "exception": null,
     "start_time": null,
     "status": "pending"
    },
    "tags": []
   },
   "outputs": [],
   "source": [
    "plotGridGraphs(history_models)\n",
    "accuracy_bar_plot(test_loss_and_accuracy_list)\n",
    "f1_score_bar_plot(f1_score_list)"
   ]
  },
  {
   "cell_type": "markdown",
   "id": "7178ba90",
   "metadata": {
    "papermill": {
     "duration": null,
     "end_time": null,
     "exception": null,
     "start_time": null,
     "status": "pending"
    },
    "tags": []
   },
   "source": [
    "# Code to Submit the Results."
   ]
  },
  {
   "cell_type": "markdown",
   "id": "6ce4c40f",
   "metadata": {
    "papermill": {
     "duration": null,
     "end_time": null,
     "exception": null,
     "start_time": null,
     "status": "pending"
    },
    "tags": []
   },
   "source": [
    "# Conclusions\n",
    "\n",
    "* As part of the Project we implemented total 6 Models which includes **4 DNNs, 1 CNN and 1 RNN**. We inferred that the Data is such that model complexity was not affecting the accuracy. \n",
    "\n",
    "* As the Data we had was imbalanced we considered F1 Score as our Evaluation Metric. All the Accuracies and F1 Scores are available in the Charts plotted. \n",
    "\n",
    "\n",
    "* After conducting extensive experiments and evaluations, we can conclude that the deep learning models we have developed have performed almost similarly. The performance differences between the models were negligible, and all models demonstrated excellent accuracy and precision in their predictions.\n",
    "\n",
    "* It is important to note that achieving such results was not an easy feat, and our team put in a tremendous amount of hard work and effort to develop these models. We faced several challenges throughout the development process, including data preprocessing, feature engineering, hyperparameter tuning, and model selection.\n",
    "\n",
    "* Despite these challenges, our team persevered and employed various techniques and methodologies to overcome each obstacle, resulting in highly performing models that can effectively predict various real-world scenarios. We are extremely proud of our achievements and confident in the applicability and usefulness of our machine learning models in practical settings."
   ]
  },
  {
   "cell_type": "code",
   "execution_count": null,
   "id": "85e19a44",
   "metadata": {
    "papermill": {
     "duration": null,
     "end_time": null,
     "exception": null,
     "start_time": null,
     "status": "pending"
    },
    "tags": []
   },
   "outputs": [],
   "source": []
  }
 ],
 "metadata": {
  "kaggle": {
   "accelerator": "gpu",
   "dataSources": [
    {
     "databundleVersionId": 5748852,
     "sourceId": 45533,
     "sourceType": "competition"
    },
    {
     "datasetId": 4637935,
     "sourceId": 7897818,
     "sourceType": "datasetVersion"
    },
    {
     "datasetId": 4644977,
     "sourceId": 7907422,
     "sourceType": "datasetVersion"
    },
    {
     "datasetId": 4645038,
     "sourceId": 7907497,
     "sourceType": "datasetVersion"
    },
    {
     "datasetId": 4645066,
     "sourceId": 7907531,
     "sourceType": "datasetVersion"
    }
   ],
   "dockerImageVersionId": 30665,
   "isGpuEnabled": true,
   "isInternetEnabled": true,
   "language": "python",
   "sourceType": "notebook"
  },
  "kernelspec": {
   "display_name": "Python 3",
   "language": "python",
   "name": "python3"
  },
  "language_info": {
   "codemirror_mode": {
    "name": "ipython",
    "version": 3
   },
   "file_extension": ".py",
   "mimetype": "text/x-python",
   "name": "python",
   "nbconvert_exporter": "python",
   "pygments_lexer": "ipython3",
   "version": "3.10.13"
  },
  "papermill": {
   "default_parameters": {},
   "duration": null,
   "end_time": null,
   "environment_variables": {},
   "exception": null,
   "input_path": "__notebook__.ipynb",
   "output_path": "__notebook__.ipynb",
   "parameters": {},
   "start_time": "2024-05-15T14:57:21.787107",
   "version": "2.4.0"
  }
 },
 "nbformat": 4,
 "nbformat_minor": 5
}